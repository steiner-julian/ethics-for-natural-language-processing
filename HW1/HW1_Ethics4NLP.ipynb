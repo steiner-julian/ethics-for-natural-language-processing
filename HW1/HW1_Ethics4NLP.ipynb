{
  "cells": [
    {
      "cell_type": "code",
      "execution_count": 2,
      "metadata": {
        "id": "WvM8edaAiOzT"
      },
      "outputs": [],
      "source": [
        "#!pip install datasets"
      ]
    },
    {
      "cell_type": "code",
      "execution_count": 7,
      "metadata": {
        "id": "uu3A3CtkIrxi"
      },
      "outputs": [],
      "source": [
        "import gensim.downloader"
      ]
    },
    {
      "cell_type": "code",
      "execution_count": 8,
      "metadata": {
        "id": "0aHIbn9sZKxs"
      },
      "outputs": [],
      "source": [
        "import numpy as np\n",
        "import seaborn as sns\n",
        "import pandas as pd"
      ]
    },
    {
      "cell_type": "code",
      "execution_count": 31,
      "metadata": {
        "id": "QptDPUD5LKAM"
      },
      "outputs": [],
      "source": [
        "#Get Word2Vec Embeddings\n",
        "w2v = gensim.downloader.load('word2vec-google-news-300')"
      ]
    },
    {
      "cell_type": "code",
      "execution_count": 7,
      "metadata": {
        "id": "iEpzYIO0TCtz"
      },
      "outputs": [],
      "source": [
        "#Dictionary containing word as key and their index in w2v as value\n",
        "key_dict = w2v.key_to_index"
      ]
    },
    {
      "cell_type": "code",
      "execution_count": 8,
      "metadata": {
        "id": "TEjMuwjFjuyt"
      },
      "outputs": [],
      "source": [
        "#List of the words in the same order as w2v\n",
        "words = list(key_dict.keys())"
      ]
    },
    {
      "cell_type": "code",
      "execution_count": 9,
      "metadata": {
        "id": "Np87BdamjvXp"
      },
      "outputs": [
        {
          "data": {
            "text/plain": [
              "723"
            ]
          },
          "execution_count": 9,
          "metadata": {},
          "output_type": "execute_result"
        }
      ],
      "source": [
        "key_dict['football']"
      ]
    },
    {
      "cell_type": "code",
      "execution_count": 10,
      "metadata": {
        "id": "Rhjwy52ijxgH"
      },
      "outputs": [
        {
          "data": {
            "text/plain": [
              "'football'"
            ]
          },
          "execution_count": 10,
          "metadata": {},
          "output_type": "execute_result"
        }
      ],
      "source": [
        "words[723]"
      ]
    },
    {
      "cell_type": "markdown",
      "metadata": {
        "id": "Z6C2bZO2hCUz"
      },
      "source": [
        "## Task 1 Word Vector Visualisation"
      ]
    },
    {
      "cell_type": "code",
      "execution_count": 19,
      "metadata": {
        "id": "vcwdcHQOUt6C"
      },
      "outputs": [],
      "source": [
        "#Insert the embeddings of the first 10000 words from w2v into vec_list\n",
        "#your code here\n",
        "vec_list = [\n",
        "    w2v[i] for i in range(10000)\n",
        "]"
      ]
    },
    {
      "cell_type": "code",
      "execution_count": 20,
      "metadata": {
        "id": "gOHc_e_BYwFV"
      },
      "outputs": [],
      "source": [
        "vec_array = np.array(vec_list)"
      ]
    },
    {
      "cell_type": "code",
      "execution_count": 21,
      "metadata": {
        "id": "E9YT__HDZUvY"
      },
      "outputs": [
        {
          "data": {
            "text/plain": [
              "(10000, 300)"
            ]
          },
          "execution_count": 21,
          "metadata": {},
          "output_type": "execute_result"
        }
      ],
      "source": [
        "vec_array.shape"
      ]
    },
    {
      "cell_type": "code",
      "execution_count": 22,
      "metadata": {
        "id": "WZ3jz2IUZOuQ"
      },
      "outputs": [],
      "source": [
        "from sklearn.manifold import TSNE"
      ]
    },
    {
      "cell_type": "code",
      "execution_count": 23,
      "metadata": {
        "id": "k-SYcPSpZXLo"
      },
      "outputs": [],
      "source": [
        "#Use TSNE to reduce the dimension of vectors in vec_array from 300 to 2 and produce a reduced vector matrix. Print its shape for checking.\n",
        "#your code here\n",
        "X_embedded = TSNE(\n",
        "  n_components=2,\n",
        "  learning_rate='auto',\n",
        "  init='random',\n",
        "  perplexity=3\n",
        ").fit_transform(vec_array)"
      ]
    },
    {
      "cell_type": "code",
      "execution_count": 24,
      "metadata": {},
      "outputs": [
        {
          "data": {
            "text/plain": [
              "(10000, 2)"
            ]
          },
          "execution_count": 24,
          "metadata": {},
          "output_type": "execute_result"
        }
      ],
      "source": [
        "X_embedded.shape"
      ]
    },
    {
      "cell_type": "code",
      "execution_count": 25,
      "metadata": {
        "id": "Mo1oCGLwaq2p"
      },
      "outputs": [],
      "source": [
        "#Lists for plotting them on graph\n",
        "labels = []\n",
        "dim1 = []\n",
        "dim2 = []"
      ]
    },
    {
      "cell_type": "code",
      "execution_count": 31,
      "metadata": {
        "id": "Hjezx0tiZ_z4"
      },
      "outputs": [],
      "source": [
        "#Put the words in list ['football','tennis','hockey','baseball','field','court','law','science','literature','computer','games'] in labels.\n",
        "#Put the first dimension from the reduced vectors corresponding to the words in dim1 list\n",
        "#Put the second dimension from the reduced vectors corresponding to the words in dim2 list\n",
        "#your code here\n",
        "for word in ['football','tennis','hockey','baseball','field','court','law','science','literature','computer','games']:\n",
        "    labels.append(word)\n",
        "    dim1.append(X_embedded[key_dict[word]][0])\n",
        "    dim2.append(X_embedded[key_dict[word]][1])"
      ]
    },
    {
      "cell_type": "code",
      "execution_count": 32,
      "metadata": {
        "id": "LfYQujAnd4E4"
      },
      "outputs": [
        {
          "data": {
            "image/png": "[encoded data removed]",
            "text/plain": [
              "<Figure size 640x480 with 1 Axes>"
            ]
          },
          "metadata": {},
          "output_type": "display_data"
        }
      ],
      "source": [
        "import matplotlib.pyplot as plt\n",
        "for i in range(len(labels)):\n",
        "  plt.plot(dim1[i],dim2[i],'o',label=labels[i])\n",
        "\n",
        "plt.legend(loc=\"upper left\")\n",
        "plt.show()"
      ]
    },
    {
      "cell_type": "markdown",
      "metadata": {
        "id": "Q-edZhJvg7_n"
      },
      "source": [
        "## Task 2.1 Simple Bias Analysis"
      ]
    },
    {
      "cell_type": "code",
      "execution_count": 40,
      "metadata": {
        "id": "MfEG5PpgYRCL"
      },
      "outputs": [
        {
          "name": "stdout",
          "output_type": "stream",
          "text": [
            "[('jobs', 0.6262935996055603), ('Job', 0.567025899887085), ('BrokeAss_Blog_Need', 0.5589309930801392), ('work', 0.5102996826171875), ('daunting_Platoni', 0.5058081150054932), ('employment', 0.49385011196136475), ('monster.com', 0.4883536100387573), ('thankless_job', 0.460772842168808), ('rsum', 0.45291033387184143), ('temping', 0.4513639807701111)]\n",
            "[('women', 0.767493724822998), ('Men', 0.6301247477531433), ('males', 0.6242231130599976), ('mens', 0.5807526707649231), ('boys', 0.5781347751617432), ('man', 0.5489763021469116), ('females', 0.5481874346733093), ('teenagers', 0.5462744832038879), ('girls', 0.540932834148407), ('ladies', 0.5234237909317017)]\n",
            "[('Men', 0.5693342089653015), ('transwomen', 0.5697940587997437), ('husbands', 0.5705342292785645), ('ladies', 0.5865179300308228), ('mothers', 0.6050933599472046), ('females', 0.6240420341491699), ('girls', 0.6339040398597717), ('womens', 0.6786180734634399), ('Women', 0.7283449769020081), ('men', 0.767493724822998)]\n"
          ]
        }
      ],
      "source": [
        "#Use the most_similar function in w2v to print words most similar to \"job\" and \"men\" and most dissimilar to \"women\"\n",
        "#your code here\n",
        "print(w2v.most_similar('job'))\n",
        "print(w2v.most_similar('men'))\n",
        "TODO print(w2v.most_similar('women'))"
      ]
    },
    {
      "cell_type": "code",
      "execution_count": null,
      "metadata": {
        "id": "L3EDj-oRYVPc"
      },
      "outputs": [],
      "source": [
        "#Use the most_similar function in w2v to print words most similar to \"job\" and \"women\" and most dissimilar to \"men\"\n",
        "#your code here\n",
        "print(w2v.most_similar('job'))\n",
        "print(w2v.most_similar('women'))\n",
        "TODO print(w2v.most_similar('men'))"
      ]
    },
    {
      "cell_type": "markdown",
      "metadata": {
        "id": "DnFNtQZdgxET"
      },
      "source": [
        "## Task 2.2 Bias Analysis in models trained with word2vec embeddings"
      ]
    },
    {
      "cell_type": "code",
      "execution_count": 2,
      "metadata": {
        "id": "fwpADnSxitul"
      },
      "outputs": [
        {
          "name": "stdout",
          "output_type": "stream",
          "text": [
            "\n",
            "\n",
            "\u001b7\u001b[1A\u001b[1G\u001b[27G[Files: 0  Bytes: 0  [0 B/s] Re]\u001b8\u001b7\u001b[2A\u001b[1G\u001b[27G[http://saifmohammad.com/WebDoc]\u001b8\u001b7\u001b[2A\u001b[1G2018-Valence-reg-En-  21% [=====>                        ]   12.89K    --.-KB/s\u001b8\u001b7\u001b[2A\u001b[1G2018-Valence-reg-En-  63% [==================>           ]   39.22K  210.62KB/s\u001b8\u001b7\u001b[2A\u001b[1G2018-Valence-reg-En- 100% [=============================>]   61.34K  205.28KB/s\u001b8\u001b7\u001b[1A\u001b[1G\u001b[27G[Files: 1  Bytes: 61.34K [100.2]\u001b8\u001b[m\u001b[m\u001b[m\u001b[m"
          ]
        }
      ],
      "source": [
        "#Get SemEval 2018 Train data\n",
        "!wget http://saifmohammad.com/WebDocs/AIT-2018/AIT2018-DATA/V-reg/English/2018-Valence-reg-En-train.zip"
      ]
    },
    {
      "cell_type": "code",
      "execution_count": 3,
      "metadata": {
        "id": "COLlop-kGDYT"
      },
      "outputs": [
        {
          "name": "stdout",
          "output_type": "stream",
          "text": [
            "\n",
            "\n",
            "\u001b7\u001b[1A\u001b[1G\u001b[27G[Files: 0  Bytes: 0  [0 B/s] Re]\u001b8\u001b7\u001b[2A\u001b[1G\u001b[27G[http://saifmohammad.com/WebDoc]\u001b8\u001b7\u001b[2A\u001b[1GSemEval2018-Task1-AI   0% [>                             ]   12.89K    --.-KB/s\u001b8\u001b7\u001b[2A\u001b[1GSemEval2018-Task1-AI   1% [>                             ]   39.22K  104.89KB/s\u001b8\u001b7\u001b[2A\u001b[1GSemEval2018-Task1-AI   3% [>                             ]   77.97K  173.08KB/s\u001b8\u001b7\u001b[2A\u001b[1GSemEval2018-Task1-AI   5% [>                             ]  132.83K  238.45KB/s\u001b8\u001b7\u001b[2A\u001b[1GSemEval2018-Task1-AI   5% [>                             ]  134.15K  192.78KB/s\u001b8\u001b7\u001b[2A\u001b[1GSemEval2018-Task1-AI  11% [==>                           ]  264.32K  333.46KB/s\u001b8\u001b7\u001b[2A\u001b[1GSemEval2018-Task1-AI  13% [===>                          ]  307.76K  335.46KB/s\u001b8\u001b7\u001b[2A\u001b[1GSemEval2018-Task1-AI  18% [====>                         ]  411.76K  397.28KB/s\u001b8\u001b7\u001b[2A\u001b[1GSemEval2018-Task1-AI  24% [======>                       ]  552.62K  478.05KB/s\u001b8\u001b7\u001b[2A\u001b[1GSemEval2018-Task1-AI  24% [======>                       ]  556.56K  433.55KB/s\u001b8\u001b7\u001b[2A\u001b[1GSemEval2018-Task1-AI  29% [=======>                      ]  660.56K  469.66KB/s\u001b8\u001b7\u001b[2A\u001b[1GSemEval2018-Task1-AI  30% [========>                     ]  697.42K  455.13KB/s\u001b8\u001b7\u001b[2A\u001b[1GSemEval2018-Task1-AI  33% [=========>                    ]  765.87K  462.23KB/s\u001b8\u001b7\u001b[2A\u001b[1GSemEval2018-Task1-AI  35% [=========>                    ]  794.83K  445.55KB/s\u001b8\u001b7\u001b[2A\u001b[1GSemEval2018-Task1-AI  36% [=========>                    ]  829.06K  434.13KB/s\u001b8\u001b7\u001b[2A\u001b[1GSemEval2018-Task1-AI  37% [==========>                   ]  838.28K  411.66KB/s\u001b8\u001b7\u001b[2A\u001b[1GSemEval2018-Task1-AI  45% [============>                 ]    1.00M  451.25KB/s\u001b8\u001b7\u001b[2A\u001b[1GSemEval2018-Task1-AI  48% [=============>                ]    1.07M  455.21KB/s\u001b8\u001b7\u001b[2A\u001b[1GSemEval2018-Task1-AI  51% [==============>               ]    1.14M  461.39KB/s\u001b8\u001b7\u001b[2A\u001b[1GSemEval2018-Task1-AI  54% [===============>              ]    1.21M  467.99KB/s\u001b8\u001b7\u001b[2A\u001b[1GSemEval2018-Task1-AI  58% [================>             ]    1.29M  475.43KB/s\u001b8\u001b7\u001b[2A\u001b[1GSemEval2018-Task1-AI  61% [=================>            ]    1.36M  481.14KB/s\u001b8\u001b7\u001b[2A\u001b[1GSemEval2018-Task1-AI  64% [==================>           ]    1.43M  483.90KB/s\u001b8\u001b7\u001b[2A\u001b[1GSemEval2018-Task1-AI  67% [===================>          ]    1.49M  486.45KB/s\u001b8\u001b7\u001b[2A\u001b[1GSemEval2018-Task1-AI  70% [====================>         ]    1.56M  519.55KB/s\u001b8\u001b7\u001b[2A\u001b[1GSemEval2018-Task1-AI  73% [=====================>        ]    1.62M  527.24KB/s\u001b8\u001b7\u001b[2A\u001b[1GSemEval2018-Task1-AI  76% [=====================>        ]    1.68M  531.24KB/s\u001b8\u001b7\u001b[2A\u001b[1GSemEval2018-Task1-AI  79% [======================>       ]    1.75M  555.54KB/s\u001b8\u001b7\u001b[2A\u001b[1GSemEval2018-Task1-AI  82% [=======================>      ]    1.81M  532.78KB/s\u001b8\u001b7\u001b[2A\u001b[1GSemEval2018-Task1-AI  83% [========================>     ]    1.85M  529.98KB/s\u001b8\u001b7\u001b[2A\u001b[1GSemEval2018-Task1-AI  85% [========================>     ]    1.88M  504.99KB/s\u001b8\u001b7\u001b[2A\u001b[1GSemEval2018-Task1-AI  86% [========================>     ]    1.90M  464.66KB/s\u001b8\u001b7\u001b[2A\u001b[1GSemEval2018-Task1-AI  92% [==========================>   ]    2.03M  452.44KB/s\u001b8\u001b7\u001b[2A\u001b[1GSemEval2018-Task1-AI  98% [============================> ]    2.16M  429.12KB/s\u001b8\u001b7\u001b[2A\u001b[1GSemEval2018-Task1-AI 100% [=============================>]    2.20M  401.48KB/s\u001b8\u001b7\u001b[1A\u001b[1G\u001b[27G[Files: 1  Bytes: 2.20M [383.32]\u001b8\u001b[m\u001b[m\u001b[m\u001b[m"
          ]
        }
      ],
      "source": [
        "#Get SemEval 2018 Test Data\n",
        "!wget http://saifmohammad.com/WebDocs/SemEval2018-Task1-AIT-Test-gold.zip"
      ]
    },
    {
      "cell_type": "code",
      "execution_count": 4,
      "metadata": {
        "id": "vOQQA48oGHaM"
      },
      "outputs": [
        {
          "name": "stdout",
          "output_type": "stream",
          "text": [
            "Archive:  2018-Valence-reg-En-train.zip\n",
            "  inflating: 2018-Valence-reg-En-train.txt  \n"
          ]
        }
      ],
      "source": [
        "!unzip 2018-Valence-reg-En-train.zip"
      ]
    },
    {
      "cell_type": "code",
      "execution_count": 5,
      "metadata": {
        "id": "Owzxtc4kGZqO"
      },
      "outputs": [
        {
          "name": "stdout",
          "output_type": "stream",
          "text": [
            "Archive:  SemEval2018-Task1-AIT-Test-gold.zip\n",
            "   creating: SemEval2018-Task1-AIT-Test-gold/\n",
            "  inflating: SemEval2018-Task1-AIT-Test-gold/.DS_Store  \n",
            "   creating: __MACOSX/\n",
            "   creating: __MACOSX/SemEval2018-Task1-AIT-Test-gold/\n",
            "  inflating: __MACOSX/SemEval2018-Task1-AIT-Test-gold/._.DS_Store  \n",
            "   creating: SemEval2018-Task1-AIT-Test-gold/E-c/\n",
            "  inflating: SemEval2018-Task1-AIT-Test-gold/E-c/2018-E-c-Ar-test-gold.txt  \n",
            "   creating: __MACOSX/SemEval2018-Task1-AIT-Test-gold/E-c/\n",
            "  inflating: __MACOSX/SemEval2018-Task1-AIT-Test-gold/E-c/._2018-E-c-Ar-test-gold.txt  \n",
            "  inflating: SemEval2018-Task1-AIT-Test-gold/E-c/2018-E-c-En-test-gold.txt  \n",
            "  inflating: __MACOSX/SemEval2018-Task1-AIT-Test-gold/E-c/._2018-E-c-En-test-gold.txt  \n",
            "  inflating: SemEval2018-Task1-AIT-Test-gold/E-c/2018-E-c-Es-test-gold.txt  \n",
            "  inflating: __MACOSX/SemEval2018-Task1-AIT-Test-gold/E-c/._2018-E-c-Es-test-gold.txt  \n",
            "   creating: SemEval2018-Task1-AIT-Test-gold/EI-oc/\n",
            "  inflating: SemEval2018-Task1-AIT-Test-gold/EI-oc/2018-EI-oc-Ar-anger-test-gold.txt  \n",
            "   creating: __MACOSX/SemEval2018-Task1-AIT-Test-gold/EI-oc/\n",
            "  inflating: __MACOSX/SemEval2018-Task1-AIT-Test-gold/EI-oc/._2018-EI-oc-Ar-anger-test-gold.txt  \n",
            "  inflating: SemEval2018-Task1-AIT-Test-gold/EI-oc/2018-EI-oc-Ar-fear-test-gold.txt  \n",
            "  inflating: __MACOSX/SemEval2018-Task1-AIT-Test-gold/EI-oc/._2018-EI-oc-Ar-fear-test-gold.txt  \n",
            "  inflating: SemEval2018-Task1-AIT-Test-gold/EI-oc/2018-EI-oc-Ar-joy-test-gold.txt  \n",
            "  inflating: __MACOSX/SemEval2018-Task1-AIT-Test-gold/EI-oc/._2018-EI-oc-Ar-joy-test-gold.txt  \n",
            "  inflating: SemEval2018-Task1-AIT-Test-gold/EI-oc/2018-EI-oc-Ar-sadness-test-gold.txt  \n",
            "  inflating: __MACOSX/SemEval2018-Task1-AIT-Test-gold/EI-oc/._2018-EI-oc-Ar-sadness-test-gold.txt  \n",
            "  inflating: SemEval2018-Task1-AIT-Test-gold/EI-oc/2018-EI-oc-En-anger-test-gold.txt  \n",
            "  inflating: __MACOSX/SemEval2018-Task1-AIT-Test-gold/EI-oc/._2018-EI-oc-En-anger-test-gold.txt  \n",
            "  inflating: SemEval2018-Task1-AIT-Test-gold/EI-oc/2018-EI-oc-En-fear-test-gold.txt  \n",
            "  inflating: __MACOSX/SemEval2018-Task1-AIT-Test-gold/EI-oc/._2018-EI-oc-En-fear-test-gold.txt  \n",
            "  inflating: SemEval2018-Task1-AIT-Test-gold/EI-oc/2018-EI-oc-En-joy-test-gold.txt  \n",
            "  inflating: __MACOSX/SemEval2018-Task1-AIT-Test-gold/EI-oc/._2018-EI-oc-En-joy-test-gold.txt  \n",
            "  inflating: SemEval2018-Task1-AIT-Test-gold/EI-oc/2018-EI-oc-En-sadness-test-gold.txt  \n",
            "  inflating: __MACOSX/SemEval2018-Task1-AIT-Test-gold/EI-oc/._2018-EI-oc-En-sadness-test-gold.txt  \n",
            "  inflating: SemEval2018-Task1-AIT-Test-gold/EI-oc/2018-EI-oc-Es-anger-test-gold.txt  \n",
            "  inflating: __MACOSX/SemEval2018-Task1-AIT-Test-gold/EI-oc/._2018-EI-oc-Es-anger-test-gold.txt  \n",
            "  inflating: SemEval2018-Task1-AIT-Test-gold/EI-oc/2018-EI-oc-Es-fear-test-gold.txt  \n",
            "  inflating: __MACOSX/SemEval2018-Task1-AIT-Test-gold/EI-oc/._2018-EI-oc-Es-fear-test-gold.txt  \n",
            "  inflating: SemEval2018-Task1-AIT-Test-gold/EI-oc/2018-EI-oc-Es-joy-test-gold.txt  \n",
            "  inflating: __MACOSX/SemEval2018-Task1-AIT-Test-gold/EI-oc/._2018-EI-oc-Es-joy-test-gold.txt  \n",
            "  inflating: SemEval2018-Task1-AIT-Test-gold/EI-oc/2018-EI-oc-Es-sadness-test-gold.txt  \n",
            "  inflating: __MACOSX/SemEval2018-Task1-AIT-Test-gold/EI-oc/._2018-EI-oc-Es-sadness-test-gold.txt  \n",
            "   creating: SemEval2018-Task1-AIT-Test-gold/EI-reg/\n",
            "  inflating: SemEval2018-Task1-AIT-Test-gold/EI-reg/2018-EI-reg-Ar-anger-test-gold.txt  \n",
            "   creating: __MACOSX/SemEval2018-Task1-AIT-Test-gold/EI-reg/\n",
            "  inflating: __MACOSX/SemEval2018-Task1-AIT-Test-gold/EI-reg/._2018-EI-reg-Ar-anger-test-gold.txt  \n",
            "  inflating: SemEval2018-Task1-AIT-Test-gold/EI-reg/2018-EI-reg-Ar-fear-test-gold.txt  \n",
            "  inflating: __MACOSX/SemEval2018-Task1-AIT-Test-gold/EI-reg/._2018-EI-reg-Ar-fear-test-gold.txt  \n",
            "  inflating: SemEval2018-Task1-AIT-Test-gold/EI-reg/2018-EI-reg-Ar-joy-test-gold.txt  \n",
            "  inflating: __MACOSX/SemEval2018-Task1-AIT-Test-gold/EI-reg/._2018-EI-reg-Ar-joy-test-gold.txt  \n",
            "  inflating: SemEval2018-Task1-AIT-Test-gold/EI-reg/2018-EI-reg-Ar-sadness-test-gold.txt  \n",
            "  inflating: __MACOSX/SemEval2018-Task1-AIT-Test-gold/EI-reg/._2018-EI-reg-Ar-sadness-test-gold.txt  \n",
            "  inflating: SemEval2018-Task1-AIT-Test-gold/EI-reg/2018-EI-reg-En-anger-test-gold.txt  \n",
            "  inflating: __MACOSX/SemEval2018-Task1-AIT-Test-gold/EI-reg/._2018-EI-reg-En-anger-test-gold.txt  \n",
            "  inflating: SemEval2018-Task1-AIT-Test-gold/EI-reg/2018-EI-reg-En-fear-test-gold.txt  \n",
            "  inflating: __MACOSX/SemEval2018-Task1-AIT-Test-gold/EI-reg/._2018-EI-reg-En-fear-test-gold.txt  \n",
            "  inflating: SemEval2018-Task1-AIT-Test-gold/EI-reg/2018-EI-reg-En-joy-test-gold.txt  \n",
            "  inflating: __MACOSX/SemEval2018-Task1-AIT-Test-gold/EI-reg/._2018-EI-reg-En-joy-test-gold.txt  \n",
            "  inflating: SemEval2018-Task1-AIT-Test-gold/EI-reg/2018-EI-reg-En-sadness-test-gold.txt  \n",
            "  inflating: __MACOSX/SemEval2018-Task1-AIT-Test-gold/EI-reg/._2018-EI-reg-En-sadness-test-gold.txt  \n",
            "  inflating: SemEval2018-Task1-AIT-Test-gold/EI-reg/2018-EI-reg-Es-anger-test-gold.txt  \n",
            "  inflating: __MACOSX/SemEval2018-Task1-AIT-Test-gold/EI-reg/._2018-EI-reg-Es-anger-test-gold.txt  \n",
            "  inflating: SemEval2018-Task1-AIT-Test-gold/EI-reg/2018-EI-reg-Es-fear-test-gold.txt  \n",
            "  inflating: __MACOSX/SemEval2018-Task1-AIT-Test-gold/EI-reg/._2018-EI-reg-Es-fear-test-gold.txt  \n",
            "  inflating: SemEval2018-Task1-AIT-Test-gold/EI-reg/2018-EI-reg-Es-joy-test-gold.txt  \n",
            "  inflating: __MACOSX/SemEval2018-Task1-AIT-Test-gold/EI-reg/._2018-EI-reg-Es-joy-test-gold.txt  \n",
            "  inflating: SemEval2018-Task1-AIT-Test-gold/EI-reg/2018-EI-reg-Es-sadness-test-gold.txt  \n",
            "  inflating: __MACOSX/SemEval2018-Task1-AIT-Test-gold/EI-reg/._2018-EI-reg-Es-sadness-test-gold.txt  \n",
            "  inflating: SemEval2018-Task1-AIT-Test-gold/readme-test.txt  \n",
            "  inflating: __MACOSX/SemEval2018-Task1-AIT-Test-gold/._readme-test.txt  \n",
            "   creating: SemEval2018-Task1-AIT-Test-gold/V-oc/\n",
            "  inflating: SemEval2018-Task1-AIT-Test-gold/V-oc/2018-Valence-oc-Ar-test-gold.txt  \n",
            "   creating: __MACOSX/SemEval2018-Task1-AIT-Test-gold/V-oc/\n",
            "  inflating: __MACOSX/SemEval2018-Task1-AIT-Test-gold/V-oc/._2018-Valence-oc-Ar-test-gold.txt  \n",
            "  inflating: SemEval2018-Task1-AIT-Test-gold/V-oc/2018-Valence-oc-En-test-gold.txt  \n",
            "  inflating: __MACOSX/SemEval2018-Task1-AIT-Test-gold/V-oc/._2018-Valence-oc-En-test-gold.txt  \n",
            "  inflating: SemEval2018-Task1-AIT-Test-gold/V-oc/2018-Valence-oc-Es-test-gold.txt  \n",
            "  inflating: __MACOSX/SemEval2018-Task1-AIT-Test-gold/V-oc/._2018-Valence-oc-Es-test-gold.txt  \n",
            "   creating: SemEval2018-Task1-AIT-Test-gold/V-reg/\n",
            "  inflating: SemEval2018-Task1-AIT-Test-gold/V-reg/2018-Valence-reg-Ar-test-gold.txt  \n",
            "   creating: __MACOSX/SemEval2018-Task1-AIT-Test-gold/V-reg/\n",
            "  inflating: __MACOSX/SemEval2018-Task1-AIT-Test-gold/V-reg/._2018-Valence-reg-Ar-test-gold.txt  \n",
            "  inflating: SemEval2018-Task1-AIT-Test-gold/V-reg/2018-Valence-reg-En-test-gold.txt  \n",
            "  inflating: __MACOSX/SemEval2018-Task1-AIT-Test-gold/V-reg/._2018-Valence-reg-En-test-gold.txt  \n",
            "  inflating: SemEval2018-Task1-AIT-Test-gold/V-reg/2018-Valence-reg-Es-test-gold.txt  \n",
            "  inflating: __MACOSX/SemEval2018-Task1-AIT-Test-gold/V-reg/._2018-Valence-reg-Es-test-gold.txt  \n",
            "  inflating: __MACOSX/._SemEval2018-Task1-AIT-Test-gold  \n"
          ]
        }
      ],
      "source": [
        "!unzip SemEval2018-Task1-AIT-Test-gold.zip"
      ]
    },
    {
      "cell_type": "code",
      "execution_count": 9,
      "metadata": {
        "id": "Fi_JcfAkGMoy"
      },
      "outputs": [],
      "source": [
        "#Load train dataframe in train_df\n",
        "train_df = pd.read_csv('2018-Valence-reg-En-train.txt',\n",
        "                       sep='\\t', index_col=0)"
      ]
    },
    {
      "cell_type": "code",
      "execution_count": 10,
      "metadata": {
        "id": "4hRkq3G4Gcrl"
      },
      "outputs": [],
      "source": [
        "#Load test dataframe in test_df\n",
        "test_df = pd.read_csv('SemEval2018-Task1-AIT-Test-gold/V-reg/2018-Valence-reg-En-test-gold.txt',\n",
        "                       sep='\\t', index_col=0)"
      ]
    },
    {
      "cell_type": "code",
      "execution_count": 21,
      "metadata": {
        "id": "J8W1S3X7GgQn"
      },
      "outputs": [
        {
          "data": {
            "text/html": [
              "<div>\n",
              "<style scoped>\n",
              "    .dataframe tbody tr th:only-of-type {\n",
              "        vertical-align: middle;\n",
              "    }\n",
              "\n",
              "    .dataframe tbody tr th {\n",
              "        vertical-align: top;\n",
              "    }\n",
              "\n",
              "    .dataframe thead th {\n",
              "        text-align: right;\n",
              "    }\n",
              "</style>\n",
              "<table border=\"1\" class=\"dataframe\">\n",
              "  <thead>\n",
              "    <tr style=\"text-align: right;\">\n",
              "      <th></th>\n",
              "      <th>Tweet</th>\n",
              "      <th>Affect Dimension</th>\n",
              "      <th>Intensity Score</th>\n",
              "    </tr>\n",
              "    <tr>\n",
              "      <th>ID</th>\n",
              "      <th></th>\n",
              "      <th></th>\n",
              "      <th></th>\n",
              "    </tr>\n",
              "  </thead>\n",
              "  <tbody>\n",
              "    <tr>\n",
              "      <th>2017-En-30153</th>\n",
              "      <td>@liamch88 yeah! :) playing well</td>\n",
              "      <td>valence</td>\n",
              "      <td>0.600</td>\n",
              "    </tr>\n",
              "    <tr>\n",
              "      <th>2017-En-40929</th>\n",
              "      <td>At least I don't have a guy trying to discoura...</td>\n",
              "      <td>valence</td>\n",
              "      <td>0.484</td>\n",
              "    </tr>\n",
              "    <tr>\n",
              "      <th>2017-En-22012</th>\n",
              "      <td>UPLIFT: If you're still discouraged it means y...</td>\n",
              "      <td>valence</td>\n",
              "      <td>0.563</td>\n",
              "    </tr>\n",
              "    <tr>\n",
              "      <th>2017-En-30837</th>\n",
              "      <td>...at your age, the heyday in the blood is tam...</td>\n",
              "      <td>valence</td>\n",
              "      <td>0.450</td>\n",
              "    </tr>\n",
              "    <tr>\n",
              "      <th>2017-En-30838</th>\n",
              "      <td>i was so embarrassed when she saw us i was lik...</td>\n",
              "      <td>valence</td>\n",
              "      <td>0.233</td>\n",
              "    </tr>\n",
              "  </tbody>\n",
              "</table>\n",
              "</div>"
            ],
            "text/plain": [
              "                                                           Tweet  \\\n",
              "ID                                                                 \n",
              "2017-En-30153                   @liamch88 yeah! :) playing well    \n",
              "2017-En-40929  At least I don't have a guy trying to discoura...   \n",
              "2017-En-22012  UPLIFT: If you're still discouraged it means y...   \n",
              "2017-En-30837  ...at your age, the heyday in the blood is tam...   \n",
              "2017-En-30838  i was so embarrassed when she saw us i was lik...   \n",
              "\n",
              "              Affect Dimension  Intensity Score  \n",
              "ID                                               \n",
              "2017-En-30153          valence            0.600  \n",
              "2017-En-40929          valence            0.484  \n",
              "2017-En-22012          valence            0.563  \n",
              "2017-En-30837          valence            0.450  \n",
              "2017-En-30838          valence            0.233  "
            ]
          },
          "execution_count": 21,
          "metadata": {},
          "output_type": "execute_result"
        }
      ],
      "source": [
        "train_df.head()"
      ]
    },
    {
      "cell_type": "code",
      "execution_count": 22,
      "metadata": {
        "id": "sEli6MLaGpef"
      },
      "outputs": [
        {
          "data": {
            "text/html": [
              "<div>\n",
              "<style scoped>\n",
              "    .dataframe tbody tr th:only-of-type {\n",
              "        vertical-align: middle;\n",
              "    }\n",
              "\n",
              "    .dataframe tbody tr th {\n",
              "        vertical-align: top;\n",
              "    }\n",
              "\n",
              "    .dataframe thead th {\n",
              "        text-align: right;\n",
              "    }\n",
              "</style>\n",
              "<table border=\"1\" class=\"dataframe\">\n",
              "  <thead>\n",
              "    <tr style=\"text-align: right;\">\n",
              "      <th></th>\n",
              "      <th>Tweet</th>\n",
              "      <th>Affect Dimension</th>\n",
              "      <th>Intensity Score</th>\n",
              "    </tr>\n",
              "    <tr>\n",
              "      <th>ID</th>\n",
              "      <th></th>\n",
              "      <th></th>\n",
              "      <th></th>\n",
              "    </tr>\n",
              "  </thead>\n",
              "  <tbody>\n",
              "    <tr>\n",
              "      <th>2018-En-01964</th>\n",
              "      <td>Gm and have a  #Tuesday!</td>\n",
              "      <td>valence</td>\n",
              "      <td>0.589</td>\n",
              "    </tr>\n",
              "    <tr>\n",
              "      <th>2018-En-01539</th>\n",
              "      <td>@realDonaldTrump But you have a lot of time fo...</td>\n",
              "      <td>valence</td>\n",
              "      <td>0.500</td>\n",
              "    </tr>\n",
              "    <tr>\n",
              "      <th>2018-En-04235</th>\n",
              "      <td>I graduated yesterday and already had 8 family...</td>\n",
              "      <td>valence</td>\n",
              "      <td>0.550</td>\n",
              "    </tr>\n",
              "    <tr>\n",
              "      <th>2018-En-03711</th>\n",
              "      <td>@jaimitoelcrack7 Seriously...I've been sitting...</td>\n",
              "      <td>valence</td>\n",
              "      <td>0.633</td>\n",
              "    </tr>\n",
              "    <tr>\n",
              "      <th>2018-En-01177</th>\n",
              "      <td>Whether my glass is half empty or its half ful...</td>\n",
              "      <td>valence</td>\n",
              "      <td>0.750</td>\n",
              "    </tr>\n",
              "  </tbody>\n",
              "</table>\n",
              "</div>"
            ],
            "text/plain": [
              "                                                           Tweet  \\\n",
              "ID                                                                 \n",
              "2018-En-01964                           Gm and have a  #Tuesday!   \n",
              "2018-En-01539  @realDonaldTrump But you have a lot of time fo...   \n",
              "2018-En-04235  I graduated yesterday and already had 8 family...   \n",
              "2018-En-03711  @jaimitoelcrack7 Seriously...I've been sitting...   \n",
              "2018-En-01177  Whether my glass is half empty or its half ful...   \n",
              "\n",
              "              Affect Dimension  Intensity Score  \n",
              "ID                                               \n",
              "2018-En-01964          valence            0.589  \n",
              "2018-En-01539          valence            0.500  \n",
              "2018-En-04235          valence            0.550  \n",
              "2018-En-03711          valence            0.633  \n",
              "2018-En-01177          valence            0.750  "
            ]
          },
          "execution_count": 22,
          "metadata": {},
          "output_type": "execute_result"
        }
      ],
      "source": [
        "test_df.head()"
      ]
    },
    {
      "cell_type": "code",
      "execution_count": 23,
      "metadata": {
        "id": "NEQHoEjOGjY5"
      },
      "outputs": [],
      "source": [
        "# Convert all the intensity score from real numbers into boolean values,\n",
        "# setting the threshold at 0.5, and creating a new column named\n",
        "# `label`\n",
        "# label 1 if greater than thershold\n",
        "# label 0 if less than or equal to threshold\n",
        "#your code here\n",
        "train_df['label'] = train_df.apply(lambda x: (0 if x['Intensity Score'] <= 0.5 else 1), axis=1)\n",
        "test_df['label'] = test_df.apply(lambda x: (0 if x['Intensity Score'] <= 0.5 else 1), axis=1)"
      ]
    },
    {
      "cell_type": "code",
      "execution_count": 24,
      "metadata": {},
      "outputs": [
        {
          "data": {
            "text/html": [
              "<div>\n",
              "<style scoped>\n",
              "    .dataframe tbody tr th:only-of-type {\n",
              "        vertical-align: middle;\n",
              "    }\n",
              "\n",
              "    .dataframe tbody tr th {\n",
              "        vertical-align: top;\n",
              "    }\n",
              "\n",
              "    .dataframe thead th {\n",
              "        text-align: right;\n",
              "    }\n",
              "</style>\n",
              "<table border=\"1\" class=\"dataframe\">\n",
              "  <thead>\n",
              "    <tr style=\"text-align: right;\">\n",
              "      <th></th>\n",
              "      <th>Tweet</th>\n",
              "      <th>Affect Dimension</th>\n",
              "      <th>Intensity Score</th>\n",
              "      <th>label</th>\n",
              "    </tr>\n",
              "    <tr>\n",
              "      <th>ID</th>\n",
              "      <th></th>\n",
              "      <th></th>\n",
              "      <th></th>\n",
              "      <th></th>\n",
              "    </tr>\n",
              "  </thead>\n",
              "  <tbody>\n",
              "    <tr>\n",
              "      <th>2017-En-30153</th>\n",
              "      <td>@liamch88 yeah! :) playing well</td>\n",
              "      <td>valence</td>\n",
              "      <td>0.600</td>\n",
              "      <td>1</td>\n",
              "    </tr>\n",
              "    <tr>\n",
              "      <th>2017-En-40929</th>\n",
              "      <td>At least I don't have a guy trying to discoura...</td>\n",
              "      <td>valence</td>\n",
              "      <td>0.484</td>\n",
              "      <td>0</td>\n",
              "    </tr>\n",
              "    <tr>\n",
              "      <th>2017-En-22012</th>\n",
              "      <td>UPLIFT: If you're still discouraged it means y...</td>\n",
              "      <td>valence</td>\n",
              "      <td>0.563</td>\n",
              "      <td>1</td>\n",
              "    </tr>\n",
              "    <tr>\n",
              "      <th>2017-En-30837</th>\n",
              "      <td>...at your age, the heyday in the blood is tam...</td>\n",
              "      <td>valence</td>\n",
              "      <td>0.450</td>\n",
              "      <td>0</td>\n",
              "    </tr>\n",
              "    <tr>\n",
              "      <th>2017-En-30838</th>\n",
              "      <td>i was so embarrassed when she saw us i was lik...</td>\n",
              "      <td>valence</td>\n",
              "      <td>0.233</td>\n",
              "      <td>0</td>\n",
              "    </tr>\n",
              "  </tbody>\n",
              "</table>\n",
              "</div>"
            ],
            "text/plain": [
              "                                                           Tweet  \\\n",
              "ID                                                                 \n",
              "2017-En-30153                   @liamch88 yeah! :) playing well    \n",
              "2017-En-40929  At least I don't have a guy trying to discoura...   \n",
              "2017-En-22012  UPLIFT: If you're still discouraged it means y...   \n",
              "2017-En-30837  ...at your age, the heyday in the blood is tam...   \n",
              "2017-En-30838  i was so embarrassed when she saw us i was lik...   \n",
              "\n",
              "              Affect Dimension  Intensity Score  label  \n",
              "ID                                                      \n",
              "2017-En-30153          valence            0.600      1  \n",
              "2017-En-40929          valence            0.484      0  \n",
              "2017-En-22012          valence            0.563      1  \n",
              "2017-En-30837          valence            0.450      0  \n",
              "2017-En-30838          valence            0.233      0  "
            ]
          },
          "execution_count": 24,
          "metadata": {},
          "output_type": "execute_result"
        }
      ],
      "source": [
        "train_df.head()"
      ]
    },
    {
      "cell_type": "code",
      "execution_count": 25,
      "metadata": {},
      "outputs": [
        {
          "data": {
            "text/html": [
              "<div>\n",
              "<style scoped>\n",
              "    .dataframe tbody tr th:only-of-type {\n",
              "        vertical-align: middle;\n",
              "    }\n",
              "\n",
              "    .dataframe tbody tr th {\n",
              "        vertical-align: top;\n",
              "    }\n",
              "\n",
              "    .dataframe thead th {\n",
              "        text-align: right;\n",
              "    }\n",
              "</style>\n",
              "<table border=\"1\" class=\"dataframe\">\n",
              "  <thead>\n",
              "    <tr style=\"text-align: right;\">\n",
              "      <th></th>\n",
              "      <th>Tweet</th>\n",
              "      <th>Affect Dimension</th>\n",
              "      <th>Intensity Score</th>\n",
              "      <th>label</th>\n",
              "    </tr>\n",
              "    <tr>\n",
              "      <th>ID</th>\n",
              "      <th></th>\n",
              "      <th></th>\n",
              "      <th></th>\n",
              "      <th></th>\n",
              "    </tr>\n",
              "  </thead>\n",
              "  <tbody>\n",
              "    <tr>\n",
              "      <th>2018-En-01964</th>\n",
              "      <td>Gm and have a  #Tuesday!</td>\n",
              "      <td>valence</td>\n",
              "      <td>0.589</td>\n",
              "      <td>1</td>\n",
              "    </tr>\n",
              "    <tr>\n",
              "      <th>2018-En-01539</th>\n",
              "      <td>@realDonaldTrump But you have a lot of time fo...</td>\n",
              "      <td>valence</td>\n",
              "      <td>0.500</td>\n",
              "      <td>0</td>\n",
              "    </tr>\n",
              "    <tr>\n",
              "      <th>2018-En-04235</th>\n",
              "      <td>I graduated yesterday and already had 8 family...</td>\n",
              "      <td>valence</td>\n",
              "      <td>0.550</td>\n",
              "      <td>1</td>\n",
              "    </tr>\n",
              "    <tr>\n",
              "      <th>2018-En-03711</th>\n",
              "      <td>@jaimitoelcrack7 Seriously...I've been sitting...</td>\n",
              "      <td>valence</td>\n",
              "      <td>0.633</td>\n",
              "      <td>1</td>\n",
              "    </tr>\n",
              "    <tr>\n",
              "      <th>2018-En-01177</th>\n",
              "      <td>Whether my glass is half empty or its half ful...</td>\n",
              "      <td>valence</td>\n",
              "      <td>0.750</td>\n",
              "      <td>1</td>\n",
              "    </tr>\n",
              "  </tbody>\n",
              "</table>\n",
              "</div>"
            ],
            "text/plain": [
              "                                                           Tweet  \\\n",
              "ID                                                                 \n",
              "2018-En-01964                           Gm and have a  #Tuesday!   \n",
              "2018-En-01539  @realDonaldTrump But you have a lot of time fo...   \n",
              "2018-En-04235  I graduated yesterday and already had 8 family...   \n",
              "2018-En-03711  @jaimitoelcrack7 Seriously...I've been sitting...   \n",
              "2018-En-01177  Whether my glass is half empty or its half ful...   \n",
              "\n",
              "              Affect Dimension  Intensity Score  label  \n",
              "ID                                                      \n",
              "2018-En-01964          valence            0.589      1  \n",
              "2018-En-01539          valence            0.500      0  \n",
              "2018-En-04235          valence            0.550      1  \n",
              "2018-En-03711          valence            0.633      1  \n",
              "2018-En-01177          valence            0.750      1  "
            ]
          },
          "execution_count": 25,
          "metadata": {},
          "output_type": "execute_result"
        }
      ],
      "source": [
        "test_df.head()"
      ]
    },
    {
      "cell_type": "code",
      "execution_count": 26,
      "metadata": {
        "colab": {
          "base_uri": "https://localhost:8080/"
        },
        "id": "FQmuyw5ZIYWd",
        "outputId": "eeba0880-017a-4b97-ab55-55d34e22625e"
      },
      "outputs": [
        {
          "data": {
            "text/plain": [
              "['This', 'short', 'text']"
            ]
          },
          "execution_count": 26,
          "metadata": {},
          "output_type": "execute_result"
        }
      ],
      "source": [
        "from gensim.parsing.preprocessing import (preprocess_string,\n",
        "                                          strip_tags,\n",
        "                                          strip_punctuation,\n",
        "                                          strip_multiple_whitespaces,\n",
        "                                          strip_numeric,\n",
        "                                          remove_stopwords)\n",
        "\n",
        "\n",
        "# We pick a subset of the default filters,\n",
        "# in particular, we do not take\n",
        "# strip_short() and stem_text().\n",
        "FILTERS = [strip_punctuation,\n",
        "           strip_tags,\n",
        "           strip_multiple_whitespaces,\n",
        "           strip_numeric,\n",
        "           remove_stopwords]\n",
        "\n",
        "# See how the sentece is transformed into tokes (words)\n",
        "preprocess_string('This is a \"short\" text!', FILTERS)"
      ]
    },
    {
      "cell_type": "code",
      "execution_count": 27,
      "metadata": {
        "id": "GbRsYYKTJ1Gt"
      },
      "outputs": [],
      "source": [
        "train_text_list = train_df[\"Tweet\"].tolist()\n",
        "train_label_list = train_df[\"label\"].tolist()"
      ]
    },
    {
      "cell_type": "code",
      "execution_count": 39,
      "metadata": {
        "id": "W8w6t9XGJYW6"
      },
      "outputs": [],
      "source": [
        "train_text = []\n",
        "train_label = []\n",
        "#Make (input,output) pairs for training\n",
        "for i in range(len(train_text_list)):\n",
        "  if len(train_text_list[i])!=0:\n",
        "    #Get the preprocessed and tokenised text\n",
        "    processed_txt = preprocess_string(train_text_list[i], filters=FILTERS)\n",
        "    #Final vector\n",
        "    X_tensor = np.zeros(300)\n",
        "    #To keep track of number of words from the sentence in w2v\n",
        "    l = 0\n",
        "    #For each token in preprocessed text get the w2v vector, add it to X_tensor and finally average it by all tokens with w2v vectors. Basically do meanpooling.\n",
        "    #Append the input to train_text\n",
        "    #Append the labels to train_label\n",
        "    #Things to be cautious of: Words out of vocabulary for w2v and empty sentences in the training set(this are not to be considered)\n",
        "    #Also take care to check if l=0. Do not divide by l in this case.\n",
        "    for txt in processed_txt:\n",
        "      if txt in w2v:\n",
        "        l += 1\n",
        "        X_tensor += np.asanyarray(w2v[txt])\n",
        "    X_tensor = (X_tensor / l) if l > 0 else X_tensor\n",
        "\n",
        "    train_text.append(X_tensor)\n",
        "    train_label.append(train_label_list[i])"
      ]
    },
    {
      "cell_type": "code",
      "execution_count": 41,
      "metadata": {
        "id": "f_hMujyrKVGW"
      },
      "outputs": [],
      "source": [
        "test_text_list = test_df[\"Tweet\"].tolist()\n",
        "test_label_list = test_df[\"label\"].tolist()"
      ]
    },
    {
      "cell_type": "code",
      "execution_count": 43,
      "metadata": {
        "id": "ltaNjYS5Lath"
      },
      "outputs": [],
      "source": [
        "#Make (input,output) pairs for test set similar to train set\n",
        "test_text = []\n",
        "test_label = []\n",
        "for i in range(len(test_text_list)):\n",
        "  if len(test_text_list[i])!=0:\n",
        "    processed_txt = preprocess_string(test_text_list[i], filters=FILTERS)\n",
        "    X_tensor = np.zeros(300)\n",
        "    l = 0\n",
        "    for txt in processed_txt:\n",
        "      if txt in w2v:\n",
        "        l += 1\n",
        "        X_tensor += np.asanyarray(w2v[txt])\n",
        "    X_tensor = (X_tensor / l) if l > 0 else X_tensor\n",
        "\n",
        "    test_text.append(X_tensor)\n",
        "    test_label.append(test_label_list[i])"
      ]
    },
    {
      "cell_type": "code",
      "execution_count": 45,
      "metadata": {
        "id": "nbaDmF1DLq9z"
      },
      "outputs": [],
      "source": [
        "from sklearn.linear_model import LogisticRegression"
      ]
    },
    {
      "cell_type": "code",
      "execution_count": 46,
      "metadata": {
        "id": "RFzd9CcPMGtC"
      },
      "outputs": [],
      "source": [
        "#Train the logistic Regresion Model using Training Data\n",
        "#your code here\n",
        "lr = LogisticRegression().fit(train_text, train_label)"
      ]
    },
    {
      "cell_type": "code",
      "execution_count": 47,
      "metadata": {
        "id": "oLZgMv72MOVh"
      },
      "outputs": [
        {
          "data": {
            "text/plain": [
              "0.834038950042337"
            ]
          },
          "execution_count": 47,
          "metadata": {},
          "output_type": "execute_result"
        }
      ],
      "source": [
        "#Report accuracy in traning data\n",
        "#your code here\n",
        "lr.score(train_text, train_label)"
      ]
    },
    {
      "cell_type": "code",
      "execution_count": 48,
      "metadata": {
        "id": "PIWRlrBrMdN7"
      },
      "outputs": [
        {
          "data": {
            "text/plain": [
              "0.6158666219089179"
            ]
          },
          "execution_count": 48,
          "metadata": {},
          "output_type": "execute_result"
        }
      ],
      "source": [
        "#Report accuracy in testing data\n",
        "#your code here\n",
        "lr.score(test_text, test_label)"
      ]
    },
    {
      "cell_type": "code",
      "execution_count": 81,
      "metadata": {
        "id": "o6RpAQ8pMhxM"
      },
      "outputs": [],
      "source": [
        "#Now load the EEC dataset for testing gender bias\n",
        "eec_df = pd.read_csv('data/Equity-Evaluation-Corpus.csv')\n",
        "\n",
        "#Remove the sentences for evaluating racial bias\n",
        "gender_eec_df = eec_df[eec_df['Race'].isna()][:]\n",
        "\n",
        "#Create identifier to mach sentence pairs\n",
        "#The EEC data comes without this matching\n",
        "MALE_PERSONS = ('he', 'this man', 'this boy', 'my brother', 'my son', 'my husband',\n",
        "                'my boyfriend', 'my father', 'my uncle', 'my dad', 'him')\n",
        "\n",
        "FEMALE_PERSONS = ('she', 'this woman', 'this girl', 'my sister', 'my daughter', 'my wife',\n",
        "                  'my girlfriend', 'my mother', 'my aunt', 'my mom', 'her')\n",
        "\n",
        "MALE_IDENTIFIER = dict(zip(MALE_PERSONS, FEMALE_PERSONS))\n",
        "FEMALE_IDENTIFIER = dict(zip(FEMALE_PERSONS, FEMALE_PERSONS))\n",
        "\n",
        "PERSON_MATCH_WORDS = {**MALE_IDENTIFIER,\n",
        "                      **FEMALE_IDENTIFIER}\n",
        "\n",
        "gender_eec_df['PersonIdentifier'] = gender_eec_df['Person'].map(PERSON_MATCH_WORDS)\n",
        "\n",
        "gender_eec_df = gender_eec_df.sort_values(['Gender', 'Template', 'Emotion word', 'PersonIdentifier'])\n",
        "\n",
        "gender_split_index = len(gender_eec_df) // 2\n",
        "\n",
        "# Create two DataFrames, one for\n",
        "female_eec_df = gender_eec_df[:gender_split_index].reset_index(False)\n",
        "male_eec_df = gender_eec_df[gender_split_index:].reset_index(False)"
      ]
    },
    {
      "cell_type": "code",
      "execution_count": 82,
      "metadata": {
        "id": "-5eKG10FM9Le"
      },
      "outputs": [
        {
          "data": {
            "text/html": [
              "<div>\n",
              "<style scoped>\n",
              "    .dataframe tbody tr th:only-of-type {\n",
              "        vertical-align: middle;\n",
              "    }\n",
              "\n",
              "    .dataframe tbody tr th {\n",
              "        vertical-align: top;\n",
              "    }\n",
              "\n",
              "    .dataframe thead th {\n",
              "        text-align: right;\n",
              "    }\n",
              "</style>\n",
              "<table border=\"1\" class=\"dataframe\">\n",
              "  <thead>\n",
              "    <tr style=\"text-align: right;\">\n",
              "      <th></th>\n",
              "      <th>index</th>\n",
              "      <th>ID</th>\n",
              "      <th>Sentence</th>\n",
              "      <th>Template</th>\n",
              "      <th>Person</th>\n",
              "      <th>Gender</th>\n",
              "      <th>Race</th>\n",
              "      <th>Emotion</th>\n",
              "      <th>Emotion word</th>\n",
              "      <th>PersonIdentifier</th>\n",
              "    </tr>\n",
              "  </thead>\n",
              "  <tbody>\n",
              "    <tr>\n",
              "      <th>0</th>\n",
              "      <td>1160</td>\n",
              "      <td>2018-En-mystery-00208</td>\n",
              "      <td>My aunt feels angry.</td>\n",
              "      <td>&lt;person subject&gt; feels &lt;emotion word&gt;.</td>\n",
              "      <td>my aunt</td>\n",
              "      <td>female</td>\n",
              "      <td>NaN</td>\n",
              "      <td>anger</td>\n",
              "      <td>angry</td>\n",
              "      <td>my aunt</td>\n",
              "    </tr>\n",
              "    <tr>\n",
              "      <th>1</th>\n",
              "      <td>1080</td>\n",
              "      <td>2018-En-mystery-08962</td>\n",
              "      <td>My daughter feels angry.</td>\n",
              "      <td>&lt;person subject&gt; feels &lt;emotion word&gt;.</td>\n",
              "      <td>my daughter</td>\n",
              "      <td>female</td>\n",
              "      <td>NaN</td>\n",
              "      <td>anger</td>\n",
              "      <td>angry</td>\n",
              "      <td>my daughter</td>\n",
              "    </tr>\n",
              "    <tr>\n",
              "      <th>2</th>\n",
              "      <td>1120</td>\n",
              "      <td>2018-En-mystery-10043</td>\n",
              "      <td>My girlfriend feels angry.</td>\n",
              "      <td>&lt;person subject&gt; feels &lt;emotion word&gt;.</td>\n",
              "      <td>my girlfriend</td>\n",
              "      <td>female</td>\n",
              "      <td>NaN</td>\n",
              "      <td>anger</td>\n",
              "      <td>angry</td>\n",
              "      <td>my girlfriend</td>\n",
              "    </tr>\n",
              "    <tr>\n",
              "      <th>3</th>\n",
              "      <td>1180</td>\n",
              "      <td>2018-En-mystery-03234</td>\n",
              "      <td>My mom feels angry.</td>\n",
              "      <td>&lt;person subject&gt; feels &lt;emotion word&gt;.</td>\n",
              "      <td>my mom</td>\n",
              "      <td>female</td>\n",
              "      <td>NaN</td>\n",
              "      <td>anger</td>\n",
              "      <td>angry</td>\n",
              "      <td>my mom</td>\n",
              "    </tr>\n",
              "    <tr>\n",
              "      <th>4</th>\n",
              "      <td>1140</td>\n",
              "      <td>2018-En-mystery-08902</td>\n",
              "      <td>My mother feels angry.</td>\n",
              "      <td>&lt;person subject&gt; feels &lt;emotion word&gt;.</td>\n",
              "      <td>my mother</td>\n",
              "      <td>female</td>\n",
              "      <td>NaN</td>\n",
              "      <td>anger</td>\n",
              "      <td>angry</td>\n",
              "      <td>my mother</td>\n",
              "    </tr>\n",
              "  </tbody>\n",
              "</table>\n",
              "</div>"
            ],
            "text/plain": [
              "   index                     ID                    Sentence  \\\n",
              "0   1160  2018-En-mystery-00208        My aunt feels angry.   \n",
              "1   1080  2018-En-mystery-08962    My daughter feels angry.   \n",
              "2   1120  2018-En-mystery-10043  My girlfriend feels angry.   \n",
              "3   1180  2018-En-mystery-03234         My mom feels angry.   \n",
              "4   1140  2018-En-mystery-08902      My mother feels angry.   \n",
              "\n",
              "                                 Template         Person  Gender Race Emotion  \\\n",
              "0  <person subject> feels <emotion word>.        my aunt  female  NaN   anger   \n",
              "1  <person subject> feels <emotion word>.    my daughter  female  NaN   anger   \n",
              "2  <person subject> feels <emotion word>.  my girlfriend  female  NaN   anger   \n",
              "3  <person subject> feels <emotion word>.         my mom  female  NaN   anger   \n",
              "4  <person subject> feels <emotion word>.      my mother  female  NaN   anger   \n",
              "\n",
              "  Emotion word PersonIdentifier  \n",
              "0        angry          my aunt  \n",
              "1        angry      my daughter  \n",
              "2        angry    my girlfriend  \n",
              "3        angry           my mom  \n",
              "4        angry        my mother  "
            ]
          },
          "execution_count": 82,
          "metadata": {},
          "output_type": "execute_result"
        }
      ],
      "source": [
        "female_eec_df.head()"
      ]
    },
    {
      "cell_type": "code",
      "execution_count": 83,
      "metadata": {
        "id": "ga8rkvVRM_dC"
      },
      "outputs": [
        {
          "data": {
            "text/html": [
              "<div>\n",
              "<style scoped>\n",
              "    .dataframe tbody tr th:only-of-type {\n",
              "        vertical-align: middle;\n",
              "    }\n",
              "\n",
              "    .dataframe tbody tr th {\n",
              "        vertical-align: top;\n",
              "    }\n",
              "\n",
              "    .dataframe thead th {\n",
              "        text-align: right;\n",
              "    }\n",
              "</style>\n",
              "<table border=\"1\" class=\"dataframe\">\n",
              "  <thead>\n",
              "    <tr style=\"text-align: right;\">\n",
              "      <th></th>\n",
              "      <th>index</th>\n",
              "      <th>ID</th>\n",
              "      <th>Sentence</th>\n",
              "      <th>Template</th>\n",
              "      <th>Person</th>\n",
              "      <th>Gender</th>\n",
              "      <th>Race</th>\n",
              "      <th>Emotion</th>\n",
              "      <th>Emotion word</th>\n",
              "      <th>PersonIdentifier</th>\n",
              "    </tr>\n",
              "  </thead>\n",
              "  <tbody>\n",
              "    <tr>\n",
              "      <th>0</th>\n",
              "      <td>560</td>\n",
              "      <td>2018-En-mystery-11402</td>\n",
              "      <td>My uncle feels angry.</td>\n",
              "      <td>&lt;person subject&gt; feels &lt;emotion word&gt;.</td>\n",
              "      <td>my uncle</td>\n",
              "      <td>male</td>\n",
              "      <td>NaN</td>\n",
              "      <td>anger</td>\n",
              "      <td>angry</td>\n",
              "      <td>my aunt</td>\n",
              "    </tr>\n",
              "    <tr>\n",
              "      <th>1</th>\n",
              "      <td>480</td>\n",
              "      <td>2018-En-mystery-04962</td>\n",
              "      <td>My son feels angry.</td>\n",
              "      <td>&lt;person subject&gt; feels &lt;emotion word&gt;.</td>\n",
              "      <td>my son</td>\n",
              "      <td>male</td>\n",
              "      <td>NaN</td>\n",
              "      <td>anger</td>\n",
              "      <td>angry</td>\n",
              "      <td>my daughter</td>\n",
              "    </tr>\n",
              "    <tr>\n",
              "      <th>2</th>\n",
              "      <td>520</td>\n",
              "      <td>2018-En-mystery-13320</td>\n",
              "      <td>My boyfriend feels angry.</td>\n",
              "      <td>&lt;person subject&gt; feels &lt;emotion word&gt;.</td>\n",
              "      <td>my boyfriend</td>\n",
              "      <td>male</td>\n",
              "      <td>NaN</td>\n",
              "      <td>anger</td>\n",
              "      <td>angry</td>\n",
              "      <td>my girlfriend</td>\n",
              "    </tr>\n",
              "    <tr>\n",
              "      <th>3</th>\n",
              "      <td>580</td>\n",
              "      <td>2018-En-mystery-08108</td>\n",
              "      <td>My dad feels angry.</td>\n",
              "      <td>&lt;person subject&gt; feels &lt;emotion word&gt;.</td>\n",
              "      <td>my dad</td>\n",
              "      <td>male</td>\n",
              "      <td>NaN</td>\n",
              "      <td>anger</td>\n",
              "      <td>angry</td>\n",
              "      <td>my mom</td>\n",
              "    </tr>\n",
              "    <tr>\n",
              "      <th>4</th>\n",
              "      <td>540</td>\n",
              "      <td>2018-En-mystery-02783</td>\n",
              "      <td>My father feels angry.</td>\n",
              "      <td>&lt;person subject&gt; feels &lt;emotion word&gt;.</td>\n",
              "      <td>my father</td>\n",
              "      <td>male</td>\n",
              "      <td>NaN</td>\n",
              "      <td>anger</td>\n",
              "      <td>angry</td>\n",
              "      <td>my mother</td>\n",
              "    </tr>\n",
              "  </tbody>\n",
              "</table>\n",
              "</div>"
            ],
            "text/plain": [
              "   index                     ID                   Sentence  \\\n",
              "0    560  2018-En-mystery-11402      My uncle feels angry.   \n",
              "1    480  2018-En-mystery-04962        My son feels angry.   \n",
              "2    520  2018-En-mystery-13320  My boyfriend feels angry.   \n",
              "3    580  2018-En-mystery-08108        My dad feels angry.   \n",
              "4    540  2018-En-mystery-02783     My father feels angry.   \n",
              "\n",
              "                                 Template        Person Gender Race Emotion  \\\n",
              "0  <person subject> feels <emotion word>.      my uncle   male  NaN   anger   \n",
              "1  <person subject> feels <emotion word>.        my son   male  NaN   anger   \n",
              "2  <person subject> feels <emotion word>.  my boyfriend   male  NaN   anger   \n",
              "3  <person subject> feels <emotion word>.        my dad   male  NaN   anger   \n",
              "4  <person subject> feels <emotion word>.     my father   male  NaN   anger   \n",
              "\n",
              "  Emotion word PersonIdentifier  \n",
              "0        angry          my aunt  \n",
              "1        angry      my daughter  \n",
              "2        angry    my girlfriend  \n",
              "3        angry           my mom  \n",
              "4        angry        my mother  "
            ]
          },
          "execution_count": 83,
          "metadata": {},
          "output_type": "execute_result"
        }
      ],
      "source": [
        "male_eec_df.head()"
      ]
    },
    {
      "cell_type": "code",
      "execution_count": 84,
      "metadata": {
        "id": "0ROzCDUmQmwM"
      },
      "outputs": [
        {
          "data": {
            "text/html": [
              "<div>\n",
              "<style scoped>\n",
              "    .dataframe tbody tr th:only-of-type {\n",
              "        vertical-align: middle;\n",
              "    }\n",
              "\n",
              "    .dataframe tbody tr th {\n",
              "        vertical-align: top;\n",
              "    }\n",
              "\n",
              "    .dataframe thead th {\n",
              "        text-align: right;\n",
              "    }\n",
              "</style>\n",
              "<table border=\"1\" class=\"dataframe\">\n",
              "  <thead>\n",
              "    <tr style=\"text-align: right;\">\n",
              "      <th></th>\n",
              "      <th>index</th>\n",
              "      <th>ID</th>\n",
              "      <th>Sentence</th>\n",
              "      <th>Template</th>\n",
              "      <th>Person</th>\n",
              "      <th>Gender</th>\n",
              "      <th>Race</th>\n",
              "      <th>Emotion</th>\n",
              "      <th>Emotion word</th>\n",
              "      <th>PersonIdentifier</th>\n",
              "    </tr>\n",
              "  </thead>\n",
              "  <tbody>\n",
              "    <tr>\n",
              "      <th>70</th>\n",
              "      <td>576</td>\n",
              "      <td>2018-En-mystery-12647</td>\n",
              "      <td>My uncle feels ecstatic.</td>\n",
              "      <td>&lt;person subject&gt; feels &lt;emotion word&gt;.</td>\n",
              "      <td>my uncle</td>\n",
              "      <td>male</td>\n",
              "      <td>NaN</td>\n",
              "      <td>joy</td>\n",
              "      <td>ecstatic</td>\n",
              "      <td>my aunt</td>\n",
              "    </tr>\n",
              "    <tr>\n",
              "      <th>71</th>\n",
              "      <td>496</td>\n",
              "      <td>2018-En-mystery-11955</td>\n",
              "      <td>My son feels ecstatic.</td>\n",
              "      <td>&lt;person subject&gt; feels &lt;emotion word&gt;.</td>\n",
              "      <td>my son</td>\n",
              "      <td>male</td>\n",
              "      <td>NaN</td>\n",
              "      <td>joy</td>\n",
              "      <td>ecstatic</td>\n",
              "      <td>my daughter</td>\n",
              "    </tr>\n",
              "    <tr>\n",
              "      <th>72</th>\n",
              "      <td>536</td>\n",
              "      <td>2018-En-mystery-09587</td>\n",
              "      <td>My boyfriend feels ecstatic.</td>\n",
              "      <td>&lt;person subject&gt; feels &lt;emotion word&gt;.</td>\n",
              "      <td>my boyfriend</td>\n",
              "      <td>male</td>\n",
              "      <td>NaN</td>\n",
              "      <td>joy</td>\n",
              "      <td>ecstatic</td>\n",
              "      <td>my girlfriend</td>\n",
              "    </tr>\n",
              "    <tr>\n",
              "      <th>73</th>\n",
              "      <td>596</td>\n",
              "      <td>2018-En-mystery-13175</td>\n",
              "      <td>My dad feels ecstatic.</td>\n",
              "      <td>&lt;person subject&gt; feels &lt;emotion word&gt;.</td>\n",
              "      <td>my dad</td>\n",
              "      <td>male</td>\n",
              "      <td>NaN</td>\n",
              "      <td>joy</td>\n",
              "      <td>ecstatic</td>\n",
              "      <td>my mom</td>\n",
              "    </tr>\n",
              "    <tr>\n",
              "      <th>74</th>\n",
              "      <td>556</td>\n",
              "      <td>2018-En-mystery-01837</td>\n",
              "      <td>My father feels ecstatic.</td>\n",
              "      <td>&lt;person subject&gt; feels &lt;emotion word&gt;.</td>\n",
              "      <td>my father</td>\n",
              "      <td>male</td>\n",
              "      <td>NaN</td>\n",
              "      <td>joy</td>\n",
              "      <td>ecstatic</td>\n",
              "      <td>my mother</td>\n",
              "    </tr>\n",
              "  </tbody>\n",
              "</table>\n",
              "</div>"
            ],
            "text/plain": [
              "    index                     ID                      Sentence  \\\n",
              "70    576  2018-En-mystery-12647      My uncle feels ecstatic.   \n",
              "71    496  2018-En-mystery-11955        My son feels ecstatic.   \n",
              "72    536  2018-En-mystery-09587  My boyfriend feels ecstatic.   \n",
              "73    596  2018-En-mystery-13175        My dad feels ecstatic.   \n",
              "74    556  2018-En-mystery-01837     My father feels ecstatic.   \n",
              "\n",
              "                                  Template        Person Gender Race Emotion  \\\n",
              "70  <person subject> feels <emotion word>.      my uncle   male  NaN     joy   \n",
              "71  <person subject> feels <emotion word>.        my son   male  NaN     joy   \n",
              "72  <person subject> feels <emotion word>.  my boyfriend   male  NaN     joy   \n",
              "73  <person subject> feels <emotion word>.        my dad   male  NaN     joy   \n",
              "74  <person subject> feels <emotion word>.     my father   male  NaN     joy   \n",
              "\n",
              "   Emotion word PersonIdentifier  \n",
              "70     ecstatic          my aunt  \n",
              "71     ecstatic      my daughter  \n",
              "72     ecstatic    my girlfriend  \n",
              "73     ecstatic           my mom  \n",
              "74     ecstatic        my mother  "
            ]
          },
          "execution_count": 84,
          "metadata": {},
          "output_type": "execute_result"
        }
      ],
      "source": [
        "#Get a subset of the male subset which relates to the emotion 'joy'\n",
        "#your code here\n",
        "joy_male_eec_df = male_eec_df.loc[male_eec_df['Emotion'] == 'joy']\n",
        "joy_male_eec_df.head()"
      ]
    },
    {
      "cell_type": "code",
      "execution_count": 85,
      "metadata": {
        "id": "2xMeJ_a8Q5yp"
      },
      "outputs": [],
      "source": [
        "#Make a input matrix with sentences from the joy-male subset to feed to the trained logistic regression model\n",
        "X_input = []\n",
        "for txt in joy_male_eec_df['Sentence']:\n",
        "  if txt:\n",
        "    processed_txt = preprocess_string(txt, filters=FILTERS)\n",
        "    X_tensor = np.zeros(300)\n",
        "    l = 0\n",
        "    for token in processed_txt:\n",
        "      if token in w2v:\n",
        "        l += 1\n",
        "        X_tensor += np.asanyarray(w2v[token])\n",
        "    X_tensor = (X_tensor / l) if l > 0 else X_tensor\n",
        "\n",
        "    X_input.append(X_tensor)"
      ]
    },
    {
      "cell_type": "code",
      "execution_count": 86,
      "metadata": {
        "id": "HoSQVoIPStfE"
      },
      "outputs": [],
      "source": [
        "#Make a histogram/distribution plot of the probability of getting valence label 1 for this subset\n",
        "#Use the predict_proba function of logistic regression and your trained logistic regression model from previous step for getting the probability\n",
        "#Use the distplot function from seaborn library for the plot\n",
        "predicted_probas = lr.predict_proba(\n",
        "    X_input\n",
        ")"
      ]
    },
    {
      "cell_type": "code",
      "execution_count": 87,
      "metadata": {},
      "outputs": [
        {
          "data": {
            "text/plain": [
              "<Axes: ylabel='Count'>"
            ]
          },
          "execution_count": 87,
          "metadata": {},
          "output_type": "execute_result"
        },
        {
          "data": {
            "image/png": "[encoded data removed]",
            "text/plain": [
              "<Figure size 640x480 with 1 Axes>"
            ]
          },
          "metadata": {},
          "output_type": "display_data"
        }
      ],
      "source": [
        "sns.histplot(predicted_probas)"
      ]
    },
    {
      "cell_type": "code",
      "execution_count": 88,
      "metadata": {
        "id": "ZoZnq2aCTcID"
      },
      "outputs": [
        {
          "data": {
            "text/html": [
              "<div>\n",
              "<style scoped>\n",
              "    .dataframe tbody tr th:only-of-type {\n",
              "        vertical-align: middle;\n",
              "    }\n",
              "\n",
              "    .dataframe tbody tr th {\n",
              "        vertical-align: top;\n",
              "    }\n",
              "\n",
              "    .dataframe thead th {\n",
              "        text-align: right;\n",
              "    }\n",
              "</style>\n",
              "<table border=\"1\" class=\"dataframe\">\n",
              "  <thead>\n",
              "    <tr style=\"text-align: right;\">\n",
              "      <th></th>\n",
              "      <th>index</th>\n",
              "      <th>ID</th>\n",
              "      <th>Sentence</th>\n",
              "      <th>Template</th>\n",
              "      <th>Person</th>\n",
              "      <th>Gender</th>\n",
              "      <th>Race</th>\n",
              "      <th>Emotion</th>\n",
              "      <th>Emotion word</th>\n",
              "      <th>PersonIdentifier</th>\n",
              "    </tr>\n",
              "  </thead>\n",
              "  <tbody>\n",
              "    <tr>\n",
              "      <th>70</th>\n",
              "      <td>1176</td>\n",
              "      <td>2018-En-mystery-14017</td>\n",
              "      <td>My aunt feels ecstatic.</td>\n",
              "      <td>&lt;person subject&gt; feels &lt;emotion word&gt;.</td>\n",
              "      <td>my aunt</td>\n",
              "      <td>female</td>\n",
              "      <td>NaN</td>\n",
              "      <td>joy</td>\n",
              "      <td>ecstatic</td>\n",
              "      <td>my aunt</td>\n",
              "    </tr>\n",
              "    <tr>\n",
              "      <th>71</th>\n",
              "      <td>1096</td>\n",
              "      <td>2018-En-mystery-12442</td>\n",
              "      <td>My daughter feels ecstatic.</td>\n",
              "      <td>&lt;person subject&gt; feels &lt;emotion word&gt;.</td>\n",
              "      <td>my daughter</td>\n",
              "      <td>female</td>\n",
              "      <td>NaN</td>\n",
              "      <td>joy</td>\n",
              "      <td>ecstatic</td>\n",
              "      <td>my daughter</td>\n",
              "    </tr>\n",
              "    <tr>\n",
              "      <th>72</th>\n",
              "      <td>1136</td>\n",
              "      <td>2018-En-mystery-06023</td>\n",
              "      <td>My girlfriend feels ecstatic.</td>\n",
              "      <td>&lt;person subject&gt; feels &lt;emotion word&gt;.</td>\n",
              "      <td>my girlfriend</td>\n",
              "      <td>female</td>\n",
              "      <td>NaN</td>\n",
              "      <td>joy</td>\n",
              "      <td>ecstatic</td>\n",
              "      <td>my girlfriend</td>\n",
              "    </tr>\n",
              "    <tr>\n",
              "      <th>73</th>\n",
              "      <td>1196</td>\n",
              "      <td>2018-En-mystery-05344</td>\n",
              "      <td>My mom feels ecstatic.</td>\n",
              "      <td>&lt;person subject&gt; feels &lt;emotion word&gt;.</td>\n",
              "      <td>my mom</td>\n",
              "      <td>female</td>\n",
              "      <td>NaN</td>\n",
              "      <td>joy</td>\n",
              "      <td>ecstatic</td>\n",
              "      <td>my mom</td>\n",
              "    </tr>\n",
              "    <tr>\n",
              "      <th>74</th>\n",
              "      <td>1156</td>\n",
              "      <td>2018-En-mystery-12470</td>\n",
              "      <td>My mother feels ecstatic.</td>\n",
              "      <td>&lt;person subject&gt; feels &lt;emotion word&gt;.</td>\n",
              "      <td>my mother</td>\n",
              "      <td>female</td>\n",
              "      <td>NaN</td>\n",
              "      <td>joy</td>\n",
              "      <td>ecstatic</td>\n",
              "      <td>my mother</td>\n",
              "    </tr>\n",
              "  </tbody>\n",
              "</table>\n",
              "</div>"
            ],
            "text/plain": [
              "    index                     ID                       Sentence  \\\n",
              "70   1176  2018-En-mystery-14017        My aunt feels ecstatic.   \n",
              "71   1096  2018-En-mystery-12442    My daughter feels ecstatic.   \n",
              "72   1136  2018-En-mystery-06023  My girlfriend feels ecstatic.   \n",
              "73   1196  2018-En-mystery-05344         My mom feels ecstatic.   \n",
              "74   1156  2018-En-mystery-12470      My mother feels ecstatic.   \n",
              "\n",
              "                                  Template         Person  Gender Race  \\\n",
              "70  <person subject> feels <emotion word>.        my aunt  female  NaN   \n",
              "71  <person subject> feels <emotion word>.    my daughter  female  NaN   \n",
              "72  <person subject> feels <emotion word>.  my girlfriend  female  NaN   \n",
              "73  <person subject> feels <emotion word>.         my mom  female  NaN   \n",
              "74  <person subject> feels <emotion word>.      my mother  female  NaN   \n",
              "\n",
              "   Emotion Emotion word PersonIdentifier  \n",
              "70     joy     ecstatic          my aunt  \n",
              "71     joy     ecstatic      my daughter  \n",
              "72     joy     ecstatic    my girlfriend  \n",
              "73     joy     ecstatic           my mom  \n",
              "74     joy     ecstatic        my mother  "
            ]
          },
          "execution_count": 88,
          "metadata": {},
          "output_type": "execute_result"
        }
      ],
      "source": [
        "#Get a subset of the female subset which relates to the emotion 'joy'\n",
        "#your code here\n",
        "joy_female_eec_df = female_eec_df.loc[male_eec_df['Emotion'] == 'joy']\n",
        "joy_female_eec_df.head()"
      ]
    },
    {
      "cell_type": "code",
      "execution_count": 89,
      "metadata": {
        "id": "_r8Zlii3UDux"
      },
      "outputs": [],
      "source": [
        "#Make a input matrix with sentences from the joy-female subset to feed to the trained logistic regression model\n",
        "#Make a input matrix with sentences from the joy-male subset to feed to the trained logistic regression model\n",
        "X_input = []\n",
        "for txt in joy_female_eec_df['Sentence']:\n",
        "  if txt:\n",
        "    processed_txt = preprocess_string(txt, filters=FILTERS)\n",
        "    X_tensor = np.zeros(300)\n",
        "    l = 0\n",
        "    for token in processed_txt:\n",
        "      if token in w2v:\n",
        "        l += 1\n",
        "        X_tensor += np.asanyarray(w2v[token])\n",
        "    X_tensor = (X_tensor / l) if l > 0 else X_tensor\n",
        "\n",
        "    X_input.append(X_tensor)"
      ]
    },
    {
      "cell_type": "code",
      "execution_count": 90,
      "metadata": {
        "id": "xjRuHKGbUU9P"
      },
      "outputs": [],
      "source": [
        "#Make a histogram/distribution plot of the probability of getting valence label 1 for this subset\n",
        "#Use the predict_proba function of logistic regression and your trained logistic regression model from previous step for getting the probability\n",
        "#Use the distplot function from seaborn library for the plot\n",
        "predicted_probas = lr.predict_proba(\n",
        "    X_input\n",
        ")"
      ]
    },
    {
      "cell_type": "code",
      "execution_count": 91,
      "metadata": {},
      "outputs": [
        {
          "data": {
            "text/plain": [
              "<Axes: ylabel='Count'>"
            ]
          },
          "execution_count": 91,
          "metadata": {},
          "output_type": "execute_result"
        },
        {
          "data": {
            "image/png": "[encoded data removed]",
            "text/plain": [
              "<Figure size 640x480 with 1 Axes>"
            ]
          },
          "metadata": {},
          "output_type": "display_data"
        }
      ],
      "source": [
        "sns.histplot(predicted_probas)"
      ]
    },
    {
      "cell_type": "code",
      "execution_count": 79,
      "metadata": {
        "id": "hy5dmQUAUYih"
      },
      "outputs": [],
      "source": [
        "#Get both plots on the same graph with labels"
      ]
    }
  ],
  "metadata": {
    "colab": {
      "provenance": []
    },
    "kernelspec": {
      "display_name": "Python 3",
      "name": "python3"
    },
    "language_info": {
      "codemirror_mode": {
        "name": "ipython",
        "version": 3
      },
      "file_extension": ".py",
      "mimetype": "text/x-python",
      "name": "python",
      "nbconvert_exporter": "python",
      "pygments_lexer": "ipython3",
      "version": "3.10.14"
    }
  },
  "nbformat": 4,
  "nbformat_minor": 0
}
