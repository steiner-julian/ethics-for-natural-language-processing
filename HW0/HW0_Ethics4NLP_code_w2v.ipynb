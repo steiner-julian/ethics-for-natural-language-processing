{
  "cells": [
    {
      "cell_type": "code",
      "execution_count": 8,
      "metadata": {
        "id": "aGiJQSKm4ZBE"
      },
      "outputs": [],
      "source": [
        "#!pip install portalocker>=2.0.0"
      ]
    },
    {
      "cell_type": "code",
      "execution_count": 9,
      "metadata": {
        "id": "HDUwrWhvIdWR"
      },
      "outputs": [],
      "source": [
        "#pip install scikit-plot"
      ]
    },
    {
      "cell_type": "code",
      "execution_count": 10,
      "metadata": {
        "id": "dnltuEvT7xDk"
      },
      "outputs": [],
      "source": [
        "import re"
      ]
    },
    {
      "cell_type": "code",
      "execution_count": 11,
      "metadata": {
        "id": "Busn2KX--uhe"
      },
      "outputs": [],
      "source": [
        "from torch.utils.data import Dataset, DataLoader"
      ]
    },
    {
      "cell_type": "code",
      "execution_count": 12,
      "metadata": {
        "id": "9Nx7DPJaG3-L"
      },
      "outputs": [],
      "source": [
        "import gensim.downloader"
      ]
    },
    {
      "cell_type": "code",
      "execution_count": 13,
      "metadata": {
        "id": "51OIY_jqG4nk"
      },
      "outputs": [],
      "source": [
        "import torch"
      ]
    },
    {
      "cell_type": "code",
      "execution_count": 14,
      "metadata": {
        "id": "z4jgU5utHDOE"
      },
      "outputs": [],
      "source": [
        "w2v = gensim.downloader.load('word2vec-google-news-300')"
      ]
    },
    {
      "cell_type": "code",
      "execution_count": 15,
      "metadata": {
        "id": "kAozEqB9HFA8"
      },
      "outputs": [
        {
          "data": {
            "text/plain": [
              "tensor([-0.0118,  0.0796,  0.0168, -0.0898,  0.0864,  0.0242,  0.0255, -0.1895,\n",
              "         0.1416,  0.0845,  0.1699, -0.2500, -0.0535, -0.0283,  0.0454, -0.1475,\n",
              "         0.0123,  0.0564,  0.0195,  0.2158,  0.1572, -0.1592,  0.0884, -0.1060,\n",
              "        -0.0041, -0.0233, -0.0493,  0.0815,  0.0381,  0.0018,  0.0552,  0.0374,\n",
              "        -0.1465, -0.0381, -0.0552,  0.0114, -0.0786, -0.1494,  0.0903,  0.0371,\n",
              "         0.0884, -0.0148,  0.1826,  0.0967, -0.0552,  0.1631,  0.0396,  0.1641,\n",
              "         0.0840,  0.0280, -0.0344,  0.2969,  0.1406,  0.0986, -0.1846, -0.2637,\n",
              "        -0.1211,  0.1826,  0.0228, -0.0425, -0.0206,  0.0825, -0.0014,  0.0225,\n",
              "        -0.0762,  0.0271, -0.0471,  0.0564, -0.0025,  0.1133,  0.1289, -0.0967,\n",
              "         0.0674, -0.0815, -0.1055,  0.0698, -0.0229,  0.0062,  0.0184, -0.0261,\n",
              "         0.0579,  0.0771,  0.0102,  0.1797,  0.1299, -0.0471, -0.1670,  0.2471,\n",
              "        -0.0303,  0.0522, -0.1475,  0.0674, -0.0562, -0.4863, -0.0077, -0.0269,\n",
              "         0.0840, -0.0287, -0.0708, -0.0820, -0.0199, -0.1885,  0.1865,  0.1855,\n",
              "        -0.0520, -0.1279,  0.1011,  0.0801,  0.1167, -0.2188,  0.1196,  0.0586,\n",
              "         0.0142, -0.1621,  0.1030,  0.0791, -0.0020,  0.1523, -0.0713,  0.0747,\n",
              "        -0.1455, -0.0287,  0.0669,  0.0188, -0.0522,  0.0056, -0.0540, -0.0903,\n",
              "        -0.0757,  0.1079,  0.0408, -0.1543, -0.0067,  0.0471, -0.1992, -0.1914,\n",
              "         0.0135, -0.0977, -0.0698,  0.1123, -0.2500,  0.0170,  0.1270, -0.1235,\n",
              "         0.0356,  0.0620, -0.0498,  0.1094, -0.0962, -0.0474,  0.0688,  0.0435,\n",
              "         0.0645,  0.1123, -0.1719, -0.0569, -0.0747, -0.1206,  0.1016, -0.0957,\n",
              "        -0.2598,  0.1680,  0.0742, -0.1152,  0.0596, -0.0649, -0.0063, -0.0510,\n",
              "         0.0237,  0.0231, -0.2373, -0.1270, -0.0094, -0.1064, -0.0596,  0.0835,\n",
              "         0.2168,  0.0124, -0.1895,  0.2617, -0.1602, -0.0310,  0.1387, -0.0147,\n",
              "         0.0488, -0.1621,  0.0356,  0.1611, -0.0162, -0.0708,  0.0383, -0.1289,\n",
              "         0.2061,  0.0334, -0.1934,  0.1445,  0.1011,  0.0732, -0.0603,  0.0149,\n",
              "        -0.1660,  0.0282, -0.1016, -0.1543,  0.0967,  0.0172, -0.0058,  0.0825,\n",
              "         0.0708, -0.1797, -0.0933,  0.0173, -0.2393, -0.0334, -0.1523,  0.1279,\n",
              "        -0.0437,  0.0908, -0.3555, -0.0250,  0.1250, -0.0277, -0.0388, -0.0493,\n",
              "        -0.1187, -0.0132, -0.0339,  0.1816, -0.0182,  0.0496,  0.0315,  0.0082,\n",
              "        -0.1318, -0.1230, -0.1187,  0.2871,  0.0083, -0.0933, -0.0942,  0.0449,\n",
              "        -0.0405, -0.1650, -0.0408, -0.1318, -0.0830,  0.2422,  0.0649,  0.1523,\n",
              "         0.1680, -0.0762,  0.1279,  0.0747,  0.2168,  0.0173, -0.1338,  0.0530,\n",
              "        -0.1299,  0.0013, -0.0486,  0.1592, -0.1235, -0.0525,  0.0767,  0.0625,\n",
              "         0.2412,  0.1157, -0.0439, -0.0216, -0.1279,  0.0237,  0.2441,  0.0491,\n",
              "         0.2100, -0.1406,  0.1206, -0.0532,  0.0137, -0.1079,  0.1484, -0.1553,\n",
              "         0.1494, -0.1211, -0.0605,  0.2041, -0.1021,  0.0262,  0.0322,  0.0786,\n",
              "        -0.1680,  0.1436, -0.1953,  0.0393, -0.1099,  0.0075,  0.0588, -0.0520,\n",
              "        -0.0299, -0.1367,  0.1533, -0.0079])"
            ]
          },
          "execution_count": 15,
          "metadata": {},
          "output_type": "execute_result"
        }
      ],
      "source": [
        "torch.tensor(w2v[\"home\"]) "
      ]
    },
    {
      "cell_type": "code",
      "execution_count": 16,
      "metadata": {
        "id": "fXfczWYnHIam"
      },
      "outputs": [
        {
          "data": {
            "text/plain": [
              "['This', 'short', 'text']"
            ]
          },
          "execution_count": 16,
          "metadata": {},
          "output_type": "execute_result"
        }
      ],
      "source": [
        "from gensim.parsing.preprocessing import (preprocess_string,\n",
        "                                          strip_tags,\n",
        "                                          strip_punctuation,\n",
        "                                          strip_multiple_whitespaces,\n",
        "                                          strip_numeric,\n",
        "                                          remove_stopwords)\n",
        "\n",
        "\n",
        "# We pick a subset of the default filters,\n",
        "# in particular, we do not take\n",
        "# strip_short() and stem_text().\n",
        "FILTERS = [strip_punctuation,\n",
        "           strip_tags,\n",
        "           strip_multiple_whitespaces,\n",
        "           strip_numeric,\n",
        "           remove_stopwords]\n",
        "\n",
        "# See how the sentece is transformed into tokes (words)\n",
        "preprocess_string('This is a \"short\" text!', FILTERS)"
      ]
    },
    {
      "cell_type": "markdown",
      "metadata": {
        "id": "l7EUtkmuVCuG"
      },
      "source": [
        "# Dataset Creation"
      ]
    },
    {
      "cell_type": "code",
      "execution_count": 17,
      "metadata": {
        "id": "lqZ630So4_Mc"
      },
      "outputs": [],
      "source": [
        "import pandas as pd\n",
        "#Load All_Beauty training, validation and testing split using read_csv from pandas library\n",
        "#Write your code here\n",
        "all_beauty_training_data = pd.read_csv(\n",
        "    filepath_or_buffer='data/All_Beauty_Split_train.csv',\n",
        "    sep=','\n",
        ")\n",
        "\n",
        "all_beauty_test_data = pd.read_csv(\n",
        "    filepath_or_buffer='data/All_Beauty_Split_test.csv',\n",
        "    sep=','\n",
        ")\n",
        "\n",
        "all_beauty_validation_data = pd.read_csv(\n",
        "    filepath_or_buffer='data/All_Beauty_Split_val.csv',\n",
        "    sep=','\n",
        ")"
      ]
    },
    {
      "cell_type": "code",
      "execution_count": 18,
      "metadata": {
        "id": "P9RgXSPpMtTz"
      },
      "outputs": [],
      "source": [
        "#Load Gift Card training, validation and testing split using read_csv from pandas library\n",
        "#Write your code here\n",
        "gift_cards_training_data = pd.read_csv(\n",
        "    filepath_or_buffer='data/Gift_Cards_Split_train.csv',\n",
        "    sep=','\n",
        ")\n",
        "\n",
        "gift_cards_test_data = pd.read_csv(\n",
        "    filepath_or_buffer='data/Gift_Cards_Split_test.csv',\n",
        "    sep=','\n",
        ")\n",
        "\n",
        "gift_cards_validation_data = pd.read_csv(\n",
        "    filepath_or_buffer='data/Gift_Cards_Split_val.csv',\n",
        "    sep=','\n",
        ")"
      ]
    },
    {
      "cell_type": "code",
      "execution_count": 19,
      "metadata": {
        "id": "9JrShhHePz4H"
      },
      "outputs": [],
      "source": [
        "#Concatenate the two splits to get a combined dataframe\n",
        "#Write your code here\n",
        "trainig_data = pd.concat([all_beauty_training_data, gift_cards_training_data], ignore_index=True)\n",
        "test_data = pd.concat([all_beauty_test_data, gift_cards_test_data], ignore_index=True)\n",
        "validation_data = pd.concat([all_beauty_validation_data, gift_cards_validation_data], ignore_index=True)"
      ]
    },
    {
      "cell_type": "markdown",
      "metadata": {},
      "source": [
        "Display some data rows from the different datasets."
      ]
    },
    {
      "cell_type": "code",
      "execution_count": 20,
      "metadata": {},
      "outputs": [
        {
          "data": {
            "text/html": [
              "<div>\n",
              "<style scoped>\n",
              "    .dataframe tbody tr th:only-of-type {\n",
              "        vertical-align: middle;\n",
              "    }\n",
              "\n",
              "    .dataframe tbody tr th {\n",
              "        vertical-align: top;\n",
              "    }\n",
              "\n",
              "    .dataframe thead th {\n",
              "        text-align: right;\n",
              "    }\n",
              "</style>\n",
              "<table border=\"1\" class=\"dataframe\">\n",
              "  <thead>\n",
              "    <tr style=\"text-align: right;\">\n",
              "      <th></th>\n",
              "      <th>User_ID</th>\n",
              "      <th>Title</th>\n",
              "      <th>Text</th>\n",
              "      <th>Parent_asin</th>\n",
              "      <th>Timestamp</th>\n",
              "      <th>Rating</th>\n",
              "    </tr>\n",
              "  </thead>\n",
              "  <tbody>\n",
              "    <tr>\n",
              "      <th>0</th>\n",
              "      <td>AFSKPY37N3C43SOI5IEXEK5JSIYA</td>\n",
              "      <td>Great for at home use and so easy to use!</td>\n",
              "      <td>This is perfect for my between salon visits. I...</td>\n",
              "      <td>B08P2DZB4X</td>\n",
              "      <td>1627391044559</td>\n",
              "      <td>5.0</td>\n",
              "    </tr>\n",
              "    <tr>\n",
              "      <th>1</th>\n",
              "      <td>AFSKPY37N3C43SOI5IEXEK5JSIYA</td>\n",
              "      <td>A little goes a long way!</td>\n",
              "      <td>This is a really nice moisturizing lotion. It ...</td>\n",
              "      <td>B07RBSLNFR</td>\n",
              "      <td>1621184430697</td>\n",
              "      <td>5.0</td>\n",
              "    </tr>\n",
              "    <tr>\n",
              "      <th>2</th>\n",
              "      <td>AFSKPY37N3C43SOI5IEXEK5JSIYA</td>\n",
              "      <td>Just ok</td>\n",
              "      <td>I try to get Keratin treatments every 3 months...</td>\n",
              "      <td>B07SLFWZKN</td>\n",
              "      <td>1619737501209</td>\n",
              "      <td>3.0</td>\n",
              "    </tr>\n",
              "    <tr>\n",
              "      <th>3</th>\n",
              "      <td>AFSKPY37N3C43SOI5IEXEK5JSIYA</td>\n",
              "      <td>Good quality hair brush!</td>\n",
              "      <td>Really nice small brush. Made well, nice wood ...</td>\n",
              "      <td>B08JTNQFZY</td>\n",
              "      <td>1617904219785</td>\n",
              "      <td>5.0</td>\n",
              "    </tr>\n",
              "    <tr>\n",
              "      <th>4</th>\n",
              "      <td>AFSKPY37N3C43SOI5IEXEK5JSIYA</td>\n",
              "      <td>Great all natural ear swabs!</td>\n",
              "      <td>I really like these ear swabs. First they come...</td>\n",
              "      <td>B07KG1TWP5</td>\n",
              "      <td>1596473351088</td>\n",
              "      <td>5.0</td>\n",
              "    </tr>\n",
              "  </tbody>\n",
              "</table>\n",
              "</div>"
            ],
            "text/plain": [
              "                        User_ID                                      Title  \\\n",
              "0  AFSKPY37N3C43SOI5IEXEK5JSIYA  Great for at home use and so easy to use!   \n",
              "1  AFSKPY37N3C43SOI5IEXEK5JSIYA                  A little goes a long way!   \n",
              "2  AFSKPY37N3C43SOI5IEXEK5JSIYA                                    Just ok   \n",
              "3  AFSKPY37N3C43SOI5IEXEK5JSIYA                   Good quality hair brush!   \n",
              "4  AFSKPY37N3C43SOI5IEXEK5JSIYA               Great all natural ear swabs!   \n",
              "\n",
              "                                                Text Parent_asin  \\\n",
              "0  This is perfect for my between salon visits. I...  B08P2DZB4X   \n",
              "1  This is a really nice moisturizing lotion. It ...  B07RBSLNFR   \n",
              "2  I try to get Keratin treatments every 3 months...  B07SLFWZKN   \n",
              "3  Really nice small brush. Made well, nice wood ...  B08JTNQFZY   \n",
              "4  I really like these ear swabs. First they come...  B07KG1TWP5   \n",
              "\n",
              "       Timestamp  Rating  \n",
              "0  1627391044559     5.0  \n",
              "1  1621184430697     5.0  \n",
              "2  1619737501209     3.0  \n",
              "3  1617904219785     5.0  \n",
              "4  1596473351088     5.0  "
            ]
          },
          "execution_count": 20,
          "metadata": {},
          "output_type": "execute_result"
        }
      ],
      "source": [
        "trainig_data.head(5)"
      ]
    },
    {
      "cell_type": "code",
      "execution_count": 21,
      "metadata": {},
      "outputs": [
        {
          "data": {
            "text/html": [
              "<div>\n",
              "<style scoped>\n",
              "    .dataframe tbody tr th:only-of-type {\n",
              "        vertical-align: middle;\n",
              "    }\n",
              "\n",
              "    .dataframe tbody tr th {\n",
              "        vertical-align: top;\n",
              "    }\n",
              "\n",
              "    .dataframe thead th {\n",
              "        text-align: right;\n",
              "    }\n",
              "</style>\n",
              "<table border=\"1\" class=\"dataframe\">\n",
              "  <thead>\n",
              "    <tr style=\"text-align: right;\">\n",
              "      <th></th>\n",
              "      <th>User_ID</th>\n",
              "      <th>Title</th>\n",
              "      <th>Text</th>\n",
              "      <th>Parent_asin</th>\n",
              "      <th>Timestamp</th>\n",
              "      <th>Rating</th>\n",
              "    </tr>\n",
              "  </thead>\n",
              "  <tbody>\n",
              "    <tr>\n",
              "      <th>0</th>\n",
              "      <td>AHTLWVDXSMG5YMVMEIWWOU6XBZMA</td>\n",
              "      <td>Great idea, less than stellar delivery.</td>\n",
              "      <td>While I love the idea of this, the actual prod...</td>\n",
              "      <td>B09G22586Y</td>\n",
              "      <td>1659628417963</td>\n",
              "      <td>1.0</td>\n",
              "    </tr>\n",
              "    <tr>\n",
              "      <th>1</th>\n",
              "      <td>AH7LDXK3GT67FZKMRW7MP477DJVQ</td>\n",
              "      <td>Too big to hold comfortably.</td>\n",
              "      <td>I like that this is cordless amd portable but ...</td>\n",
              "      <td>B09G22586Y</td>\n",
              "      <td>1678171704867</td>\n",
              "      <td>2.0</td>\n",
              "    </tr>\n",
              "    <tr>\n",
              "      <th>2</th>\n",
              "      <td>AH7LDXK3GT67FZKMRW7MP477DJVQ</td>\n",
              "      <td>Great selection of implements.</td>\n",
              "      <td>This is a complete set for doing manicures or ...</td>\n",
              "      <td>B083J1Y349</td>\n",
              "      <td>1609032368011</td>\n",
              "      <td>4.0</td>\n",
              "    </tr>\n",
              "    <tr>\n",
              "      <th>3</th>\n",
              "      <td>AH6JLX5SJSUOJBBT6RRE2RDXIG6A</td>\n",
              "      <td>Likeable liquid lipstick</td>\n",
              "      <td>To me the shade on the product picture looks l...</td>\n",
              "      <td>B0BVQQ58G8</td>\n",
              "      <td>1658366200714</td>\n",
              "      <td>4.0</td>\n",
              "    </tr>\n",
              "    <tr>\n",
              "      <th>4</th>\n",
              "      <td>AH6JLX5SJSUOJBBT6RRE2RDXIG6A</td>\n",
              "      <td>Liking it</td>\n",
              "      <td>The skin on my neck has lost a lot of elastici...</td>\n",
              "      <td>B07PBWVV5K</td>\n",
              "      <td>1609465038183</td>\n",
              "      <td>5.0</td>\n",
              "    </tr>\n",
              "  </tbody>\n",
              "</table>\n",
              "</div>"
            ],
            "text/plain": [
              "                        User_ID                                    Title  \\\n",
              "0  AHTLWVDXSMG5YMVMEIWWOU6XBZMA  Great idea, less than stellar delivery.   \n",
              "1  AH7LDXK3GT67FZKMRW7MP477DJVQ             Too big to hold comfortably.   \n",
              "2  AH7LDXK3GT67FZKMRW7MP477DJVQ           Great selection of implements.   \n",
              "3  AH6JLX5SJSUOJBBT6RRE2RDXIG6A                 Likeable liquid lipstick   \n",
              "4  AH6JLX5SJSUOJBBT6RRE2RDXIG6A                                Liking it   \n",
              "\n",
              "                                                Text Parent_asin  \\\n",
              "0  While I love the idea of this, the actual prod...  B09G22586Y   \n",
              "1  I like that this is cordless amd portable but ...  B09G22586Y   \n",
              "2  This is a complete set for doing manicures or ...  B083J1Y349   \n",
              "3  To me the shade on the product picture looks l...  B0BVQQ58G8   \n",
              "4  The skin on my neck has lost a lot of elastici...  B07PBWVV5K   \n",
              "\n",
              "       Timestamp  Rating  \n",
              "0  1659628417963     1.0  \n",
              "1  1678171704867     2.0  \n",
              "2  1609032368011     4.0  \n",
              "3  1658366200714     4.0  \n",
              "4  1609465038183     5.0  "
            ]
          },
          "execution_count": 21,
          "metadata": {},
          "output_type": "execute_result"
        }
      ],
      "source": [
        "test_data.head(5)"
      ]
    },
    {
      "cell_type": "code",
      "execution_count": 22,
      "metadata": {},
      "outputs": [
        {
          "data": {
            "text/html": [
              "<div>\n",
              "<style scoped>\n",
              "    .dataframe tbody tr th:only-of-type {\n",
              "        vertical-align: middle;\n",
              "    }\n",
              "\n",
              "    .dataframe tbody tr th {\n",
              "        vertical-align: top;\n",
              "    }\n",
              "\n",
              "    .dataframe thead th {\n",
              "        text-align: right;\n",
              "    }\n",
              "</style>\n",
              "<table border=\"1\" class=\"dataframe\">\n",
              "  <thead>\n",
              "    <tr style=\"text-align: right;\">\n",
              "      <th></th>\n",
              "      <th>User_ID</th>\n",
              "      <th>Title</th>\n",
              "      <th>Text</th>\n",
              "      <th>Parent_asin</th>\n",
              "      <th>Timestamp</th>\n",
              "      <th>Rating</th>\n",
              "    </tr>\n",
              "  </thead>\n",
              "  <tbody>\n",
              "    <tr>\n",
              "      <th>0</th>\n",
              "      <td>AFXF3EGQTQDXMRLDWFU7UBFQZB7Q</td>\n",
              "      <td>The cream is blue but goes on clear; it is ver...</td>\n",
              "      <td>The photo on Amazon must be wrong. This cream ...</td>\n",
              "      <td>B08HVRP54L</td>\n",
              "      <td>1653607216628</td>\n",
              "      <td>3.0</td>\n",
              "    </tr>\n",
              "    <tr>\n",
              "      <th>1</th>\n",
              "      <td>AFXF3EGQTQDXMRLDWFU7UBFQZB7Q</td>\n",
              "      <td>Light-weight cream that is a bit tacky to star...</td>\n",
              "      <td>This comes in a one gallon jug. There are two ...</td>\n",
              "      <td>B08N5NDVGH</td>\n",
              "      <td>1647381362768</td>\n",
              "      <td>3.0</td>\n",
              "    </tr>\n",
              "    <tr>\n",
              "      <th>2</th>\n",
              "      <td>AFXF3EGQTQDXMRLDWFU7UBFQZB7Q</td>\n",
              "      <td>Beautiful compact mirror w/high-gloss shine; n...</td>\n",
              "      <td>This is a nice set. It contains a beautiful co...</td>\n",
              "      <td>B092M5K59T</td>\n",
              "      <td>1638840554514</td>\n",
              "      <td>4.0</td>\n",
              "    </tr>\n",
              "    <tr>\n",
              "      <th>3</th>\n",
              "      <td>AFXF3EGQTQDXMRLDWFU7UBFQZB7Q</td>\n",
              "      <td>Cute MOM gift but not as fragrant or impressiv...</td>\n",
              "      <td>[[VIDEOID:f77804a8088c40dfbef6fdcfacf8b15a]] T...</td>\n",
              "      <td>B095CG2ZV1</td>\n",
              "      <td>1631367075148</td>\n",
              "      <td>3.0</td>\n",
              "    </tr>\n",
              "    <tr>\n",
              "      <th>4</th>\n",
              "      <td>AFXF3EGQTQDXMRLDWFU7UBFQZB7Q</td>\n",
              "      <td>Fragrance is subtle but lovely and floral; jus...</td>\n",
              "      <td>This is a nice room freshener. The fragrance i...</td>\n",
              "      <td>B08T7GPT1D</td>\n",
              "      <td>1625006698955</td>\n",
              "      <td>4.0</td>\n",
              "    </tr>\n",
              "  </tbody>\n",
              "</table>\n",
              "</div>"
            ],
            "text/plain": [
              "                        User_ID  \\\n",
              "0  AFXF3EGQTQDXMRLDWFU7UBFQZB7Q   \n",
              "1  AFXF3EGQTQDXMRLDWFU7UBFQZB7Q   \n",
              "2  AFXF3EGQTQDXMRLDWFU7UBFQZB7Q   \n",
              "3  AFXF3EGQTQDXMRLDWFU7UBFQZB7Q   \n",
              "4  AFXF3EGQTQDXMRLDWFU7UBFQZB7Q   \n",
              "\n",
              "                                               Title  \\\n",
              "0  The cream is blue but goes on clear; it is ver...   \n",
              "1  Light-weight cream that is a bit tacky to star...   \n",
              "2  Beautiful compact mirror w/high-gloss shine; n...   \n",
              "3  Cute MOM gift but not as fragrant or impressiv...   \n",
              "4  Fragrance is subtle but lovely and floral; jus...   \n",
              "\n",
              "                                                Text Parent_asin  \\\n",
              "0  The photo on Amazon must be wrong. This cream ...  B08HVRP54L   \n",
              "1  This comes in a one gallon jug. There are two ...  B08N5NDVGH   \n",
              "2  This is a nice set. It contains a beautiful co...  B092M5K59T   \n",
              "3  [[VIDEOID:f77804a8088c40dfbef6fdcfacf8b15a]] T...  B095CG2ZV1   \n",
              "4  This is a nice room freshener. The fragrance i...  B08T7GPT1D   \n",
              "\n",
              "       Timestamp  Rating  \n",
              "0  1653607216628     3.0  \n",
              "1  1647381362768     3.0  \n",
              "2  1638840554514     4.0  \n",
              "3  1631367075148     3.0  \n",
              "4  1625006698955     4.0  "
            ]
          },
          "execution_count": 22,
          "metadata": {},
          "output_type": "execute_result"
        }
      ],
      "source": [
        "validation_data.head(5)"
      ]
    },
    {
      "cell_type": "code",
      "execution_count": 23,
      "metadata": {
        "id": "KqgLqSK28X0C"
      },
      "outputs": [],
      "source": [
        "#Creating dataset class\n",
        "class reviews(Dataset):\n",
        "    def __init__(self,split):\n",
        "        super(reviews,self).__init__()\n",
        "\n",
        "        if split == 'train':\n",
        "        #Give train dataframe\n",
        "            df_data = trainig_data\n",
        "        elif split == 'val':\n",
        "        #Give validation dataframe\n",
        "            df_data = validation_data\n",
        "        elif split == 'test':\n",
        "        #Give test dataframe\n",
        "            df_data = test_data\n",
        "        else:\n",
        "            raise Exception(f\"wrong split: {split}\")\n",
        "        #List for containing (input,output) pairs\n",
        "        self.data = []\n",
        "        #Make a list of ratings from df_data\n",
        "        ratings = df_data['Rating']\n",
        "        #Make a list of reviews from df_data\n",
        "        text = df_data['Text']\n",
        "\n",
        "        for i in range(len(text)):\n",
        "            #Creating list of tokens for each review\n",
        "            txt = preprocess_string(text[i], filters=FILTERS) # I used the filters from above\n",
        "            #Appending (input,output) pairs to list\n",
        "            if txt:\n",
        "                self.data.append([txt,ratings[i]])\n",
        "\n",
        "    def vectorise(self,txt):\n",
        "        #Final tensor\n",
        "        X_tensor = torch.zeros(300)\n",
        "        l=0\n",
        "        for i in txt:\n",
        "          #Check if the word is in the vocabulary of word2vec\n",
        "          if i in w2v:\n",
        "            l = l+1\n",
        "            #If so add it to the X_tensor\n",
        "            X_tensor += torch.tensor(w2v[i])\n",
        "        #Divide X_tensor by number of vectors that were added. This is called mean pooling\n",
        "        X_tensor = (X_tensor / l) if l > 0 else X_tensor\n",
        "            \n",
        "        return X_tensor\n",
        "\n",
        "    def __getitem__(self,index):\n",
        "        sent_tensor = self.vectorise(self.data[index][0])\n",
        "        return [sent_tensor,(self.data[index][1]-1)]\n",
        "    def __len__(self):\n",
        "        return len(self.data)"
      ]
    },
    {
      "cell_type": "code",
      "execution_count": 24,
      "metadata": {
        "id": "klu4SIf10sLw"
      },
      "outputs": [],
      "source": [
        "import torch\n",
        "\n",
        "target_classes = [\"1\", \"2\", \"3\", \"4\", \"5\"]\n",
        "\n",
        "train_dataset = reviews(\"train\")\n",
        "val_dataset = reviews(\"val\")\n",
        "test_dataset = reviews(\"test\")\n",
        "\n",
        "train_loader = DataLoader(train_dataset, batch_size=128)\n",
        "val_loader = DataLoader(val_dataset, batch_size=128)\n",
        "test_loader  = DataLoader(test_dataset, batch_size=128)"
      ]
    },
    {
      "cell_type": "code",
      "execution_count": 25,
      "metadata": {
        "id": "zES2i4031CKb"
      },
      "outputs": [
        {
          "name": "stdout",
          "output_type": "stream",
          "text": [
            "torch.Size([128, 300]) torch.Size([128])\n"
          ]
        }
      ],
      "source": [
        "for X, Y in train_loader:\n",
        "    print(X.shape, Y.shape)\n",
        "    break"
      ]
    },
    {
      "cell_type": "markdown",
      "metadata": {
        "id": "xiWHJZDkVHS8"
      },
      "source": [
        "# Model Training"
      ]
    },
    {
      "cell_type": "code",
      "execution_count": 26,
      "metadata": {
        "id": "u9dsc1gO1LrM"
      },
      "outputs": [],
      "source": [
        "from torch import nn\n",
        "from torch.nn import functional as F\n",
        "\n",
        "#Embedding dimension of Word2vec\n",
        "embed_len = 300\n",
        "\n",
        "#Create a Neural Network for mapping the reviews to probabilities of different ratings\n",
        "class EmbeddingClassifier(nn.Module):\n",
        "    def __init__(self):\n",
        "        super(EmbeddingClassifier, self).__init__()\n",
        "        #Create a Neural Network with input dimension embed_len, hidden dimensions 256,128,64 and output dimension the length of target class.\n",
        "        #Use Relu as the activation function between each layer.\n",
        "        self.seq = nn.Sequential(\n",
        "            nn.Linear(embed_len, 256),\n",
        "            nn.ReLU(),\n",
        "            nn.Linear(256, 128),\n",
        "            nn.ReLU(),\n",
        "            nn.Linear(128, 64),\n",
        "            nn.ReLU(),\n",
        "            nn.Linear(64, len(target_classes)),\n",
        "            nn.Softmax(dim=1)\n",
        "        )\n",
        "\n",
        "    def forward(self, X_batch):\n",
        "        return self.seq(X_batch)"
      ]
    },
    {
      "cell_type": "code",
      "execution_count": 27,
      "metadata": {
        "id": "PIrB0oXf1Oo2"
      },
      "outputs": [],
      "source": [
        "from tqdm import tqdm\n",
        "from sklearn.metrics import accuracy_score\n",
        "import gc\n",
        "\n",
        "def CalcValLossAndAccuracy(model, loss_fn, val_loader):\n",
        "    with torch.no_grad():\n",
        "        Y_shuffled, Y_preds, losses = [],[],[]\n",
        "        for X, Y in val_loader:\n",
        "            #Predict output probabilities for all target classes for input X\n",
        "            preds = model(X)\n",
        "            loss = loss_fn(preds, Y.long())\n",
        "            losses.append(loss.item())\n",
        "\n",
        "            Y_shuffled.append(Y)\n",
        "            #Get the predicted class from the output probabilities: The class with the highest probability. Append to Y_preds list(use argmax)\n",
        "            Y_preds.append(torch.argmax(preds, dim=1))\n",
        "\n",
        "        Y_shuffled = torch.cat(Y_shuffled)\n",
        "        Y_preds = torch.cat(Y_preds)\n",
        "\n",
        "        print(\"Valid Loss : {:.3f}\".format(torch.tensor(losses).mean()))\n",
        "        print(\"Valid Acc  : {:.3f}\".format(accuracy_score(Y_shuffled.detach().numpy(), Y_preds.detach().numpy())))\n",
        "\n",
        "def TrainModel(model, loss_fn, optimizer, train_loader, val_loader, epochs=10):\n",
        "    for i in range(1, epochs+1):\n",
        "        losses = []\n",
        "        for X, Y in tqdm(train_loader):\n",
        "            #Predict output probabilities for all target classes for input X″\n",
        "            Y_preds = model(X)\n",
        "            loss = loss_fn(Y_preds, Y.long())\n",
        "            losses.append(loss.item())\n",
        "\n",
        "            optimizer.zero_grad()\n",
        "            loss.backward()\n",
        "            optimizer.step()\n",
        "\n",
        "        if i%5==0:\n",
        "            print(\"Train Loss : {:.3f}\".format(torch.tensor(losses).mean()))\n",
        "            CalcValLossAndAccuracy(model, loss_fn, val_loader)"
      ]
    },
    {
      "cell_type": "code",
      "execution_count": 28,
      "metadata": {
        "id": "7NH3fPjU1SP6"
      },
      "outputs": [
        {
          "name": "stderr",
          "output_type": "stream",
          "text": [
            "100%|██████████| 38/38 [00:01<00:00, 20.68it/s]\n",
            "100%|██████████| 38/38 [00:01<00:00, 21.89it/s]\n",
            "100%|██████████| 38/38 [00:01<00:00, 21.42it/s]\n",
            "100%|██████████| 38/38 [00:01<00:00, 20.91it/s]\n",
            "100%|██████████| 38/38 [00:01<00:00, 21.92it/s]\n"
          ]
        },
        {
          "name": "stdout",
          "output_type": "stream",
          "text": [
            "Train Loss : 1.143\n",
            "Valid Loss : 0.957\n",
            "Valid Acc  : 0.926\n"
          ]
        },
        {
          "name": "stderr",
          "output_type": "stream",
          "text": [
            "100%|██████████| 38/38 [00:01<00:00, 21.95it/s]\n",
            "100%|██████████| 38/38 [00:01<00:00, 21.71it/s]\n",
            "100%|██████████| 38/38 [00:01<00:00, 22.24it/s]\n",
            "100%|██████████| 38/38 [00:01<00:00, 22.37it/s]\n",
            "100%|██████████| 38/38 [00:01<00:00, 22.00it/s]\n"
          ]
        },
        {
          "name": "stdout",
          "output_type": "stream",
          "text": [
            "Train Loss : 1.143\n",
            "Valid Loss : 0.957\n",
            "Valid Acc  : 0.926\n"
          ]
        },
        {
          "name": "stderr",
          "output_type": "stream",
          "text": [
            "100%|██████████| 38/38 [00:01<00:00, 21.61it/s]\n",
            "100%|██████████| 38/38 [00:01<00:00, 23.81it/s]\n",
            "100%|██████████| 38/38 [00:01<00:00, 19.73it/s]\n",
            "100%|██████████| 38/38 [00:01<00:00, 21.26it/s]\n",
            "100%|██████████| 38/38 [00:01<00:00, 21.75it/s]\n"
          ]
        },
        {
          "name": "stdout",
          "output_type": "stream",
          "text": [
            "Train Loss : 1.143\n",
            "Valid Loss : 0.957\n",
            "Valid Acc  : 0.926\n"
          ]
        },
        {
          "name": "stderr",
          "output_type": "stream",
          "text": [
            "100%|██████████| 38/38 [00:01<00:00, 22.59it/s]\n",
            "100%|██████████| 38/38 [00:01<00:00, 21.31it/s]\n",
            "100%|██████████| 38/38 [00:01<00:00, 22.24it/s]\n",
            "100%|██████████| 38/38 [00:01<00:00, 21.63it/s]\n",
            "100%|██████████| 38/38 [00:01<00:00, 21.82it/s]\n"
          ]
        },
        {
          "name": "stdout",
          "output_type": "stream",
          "text": [
            "Train Loss : 1.143\n",
            "Valid Loss : 0.957\n",
            "Valid Acc  : 0.926\n"
          ]
        },
        {
          "name": "stderr",
          "output_type": "stream",
          "text": [
            "100%|██████████| 38/38 [00:01<00:00, 20.60it/s]\n",
            "100%|██████████| 38/38 [00:01<00:00, 21.32it/s]\n",
            "100%|██████████| 38/38 [00:01<00:00, 20.15it/s]\n",
            "100%|██████████| 38/38 [00:01<00:00, 19.23it/s]\n",
            "100%|██████████| 38/38 [00:01<00:00, 20.86it/s]\n"
          ]
        },
        {
          "name": "stdout",
          "output_type": "stream",
          "text": [
            "Train Loss : 1.143\n",
            "Valid Loss : 0.957\n",
            "Valid Acc  : 0.926\n"
          ]
        }
      ],
      "source": [
        "from torch.optim import Adam\n",
        "\n",
        "epochs = 25\n",
        "learning_rate = 1e-3\n",
        "\n",
        "loss_fn = nn.CrossEntropyLoss()\n",
        "embed_classifier = EmbeddingClassifier()\n",
        "optimizer = Adam(embed_classifier.parameters(), lr=learning_rate)\n",
        "\n",
        "TrainModel(embed_classifier, loss_fn, optimizer, train_loader, test_loader, epochs)"
      ]
    },
    {
      "cell_type": "markdown",
      "metadata": {
        "id": "BhsN_oQBVLu4"
      },
      "source": [
        "# Evaluation"
      ]
    },
    {
      "cell_type": "code",
      "execution_count": 29,
      "metadata": {
        "id": "b_0D0Y9ghXcn"
      },
      "outputs": [],
      "source": [
        "def MakePredictions(model, loader):\n",
        "    Y_shuffled, Y_preds = [], []\n",
        "    for X, Y in loader:\n",
        "        preds = model(X)\n",
        "        Y_preds.append(preds)\n",
        "        Y_shuffled.append(Y)\n",
        "    gc.collect()\n",
        "    Y_preds, Y_shuffled = torch.cat(Y_preds), torch.cat(Y_shuffled)\n",
        "\n",
        "    return Y_shuffled.detach().numpy(), F.softmax(Y_preds, dim=-1).argmax(dim=-1).detach().numpy()\n",
        "\n",
        "Y_actual_val, Y_preds_val = MakePredictions(embed_classifier, val_loader)"
      ]
    },
    {
      "cell_type": "code",
      "execution_count": 30,
      "metadata": {
        "id": "4akk395rhYEi"
      },
      "outputs": [
        {
          "name": "stderr",
          "output_type": "stream",
          "text": [
            "/home/steinerj/.virtualenvs/ethics-4-nlp/lib64/python3.10/site-packages/sklearn/metrics/_classification.py:1509: UndefinedMetricWarning: Precision is ill-defined and being set to 0.0 in labels with no predicted samples. Use `zero_division` parameter to control this behavior.\n",
            "  _warn_prf(average, modifier, f\"{metric.capitalize()} is\", len(result))\n",
            "/home/steinerj/.virtualenvs/ethics-4-nlp/lib64/python3.10/site-packages/sklearn/metrics/_classification.py:1509: UndefinedMetricWarning: Precision is ill-defined and being set to 0.0 in labels with no predicted samples. Use `zero_division` parameter to control this behavior.\n",
            "  _warn_prf(average, modifier, f\"{metric.capitalize()} is\", len(result))\n",
            "/home/steinerj/.virtualenvs/ethics-4-nlp/lib64/python3.10/site-packages/sklearn/metrics/_classification.py:1509: UndefinedMetricWarning: Precision is ill-defined and being set to 0.0 in labels with no predicted samples. Use `zero_division` parameter to control this behavior.\n",
            "  _warn_prf(average, modifier, f\"{metric.capitalize()} is\", len(result))\n"
          ]
        }
      ],
      "source": [
        "from sklearn.metrics import accuracy_score, classification_report, confusion_matrix\n",
        "\n",
        "#Write code to get full classification report and print a confusion matrix for validation set\n",
        "acc = accuracy_score(Y_actual_val, Y_preds_val)\n",
        "report = classification_report(Y_actual_val, Y_preds_val)\n",
        "conf = confusion_matrix(Y_actual_val, Y_preds_val)"
      ]
    },
    {
      "cell_type": "markdown",
      "metadata": {},
      "source": [
        "Accuracy"
      ]
    },
    {
      "cell_type": "code",
      "execution_count": 31,
      "metadata": {},
      "outputs": [
        {
          "name": "stdout",
          "output_type": "stream",
          "text": [
            "0.7390300230946882\n"
          ]
        }
      ],
      "source": [
        "print(acc)"
      ]
    },
    {
      "cell_type": "markdown",
      "metadata": {},
      "source": [
        "Classification Report"
      ]
    },
    {
      "cell_type": "code",
      "execution_count": 32,
      "metadata": {},
      "outputs": [
        {
          "name": "stdout",
          "output_type": "stream",
          "text": [
            "              precision    recall  f1-score   support\n",
            "\n",
            "         0.0       0.00      0.00      0.00        14\n",
            "         1.0       0.00      0.00      0.00        19\n",
            "         2.0       0.00      0.00      0.00        53\n",
            "         3.0       0.00      0.00      0.00       140\n",
            "         4.0       0.74      1.00      0.85       640\n",
            "\n",
            "    accuracy                           0.74       866\n",
            "   macro avg       0.15      0.20      0.17       866\n",
            "weighted avg       0.55      0.74      0.63       866\n",
            "\n"
          ]
        }
      ],
      "source": [
        "print(report)"
      ]
    },
    {
      "cell_type": "markdown",
      "metadata": {},
      "source": [
        "Confusion Matrix"
      ]
    },
    {
      "cell_type": "code",
      "execution_count": 33,
      "metadata": {},
      "outputs": [
        {
          "name": "stdout",
          "output_type": "stream",
          "text": [
            "[[  0   0   0   0  14]\n",
            " [  0   0   0   0  19]\n",
            " [  0   0   0   0  53]\n",
            " [  0   0   0   0 140]\n",
            " [  0   0   0   0 640]]\n"
          ]
        }
      ],
      "source": [
        "print(conf)"
      ]
    },
    {
      "cell_type": "code",
      "execution_count": 34,
      "metadata": {
        "id": "HqefIiwNhaCW"
      },
      "outputs": [
        {
          "data": {
            "text/plain": [
              "<Axes: title={'center': 'Confusion Matrix'}, xlabel='Predicted label', ylabel='True label'>"
            ]
          },
          "execution_count": 34,
          "metadata": {},
          "output_type": "execute_result"
        },
        {
          "data": {
            "image/png": "[encoded data removed]",
            "text/plain": [
              "<Figure size 640x480 with 2 Axes>"
            ]
          },
          "metadata": {},
          "output_type": "display_data"
        }
      ],
      "source": [
        "from sklearn.metrics import confusion_matrix\n",
        "import scikitplot as skplt\n",
        "import matplotlib.pyplot as plt\n",
        "import numpy as np\n",
        "\n",
        "#Plot a confusion matrix for the validation set\n",
        "skplt.metrics.plot_confusion_matrix(\n",
        "    Y_actual_val, Y_preds_val\n",
        ")"
      ]
    },
    {
      "cell_type": "code",
      "execution_count": 35,
      "metadata": {
        "id": "OCTP91W21Upe"
      },
      "outputs": [],
      "source": [
        "Y_actual_test, Y_preds_test = MakePredictions(embed_classifier, test_loader)"
      ]
    },
    {
      "cell_type": "code",
      "execution_count": 36,
      "metadata": {
        "id": "R2Lbn3HL1XkG"
      },
      "outputs": [
        {
          "name": "stderr",
          "output_type": "stream",
          "text": [
            "/home/steinerj/.virtualenvs/ethics-4-nlp/lib64/python3.10/site-packages/sklearn/metrics/_classification.py:1509: UndefinedMetricWarning: Precision is ill-defined and being set to 0.0 in labels with no predicted samples. Use `zero_division` parameter to control this behavior.\n",
            "  _warn_prf(average, modifier, f\"{metric.capitalize()} is\", len(result))\n",
            "/home/steinerj/.virtualenvs/ethics-4-nlp/lib64/python3.10/site-packages/sklearn/metrics/_classification.py:1509: UndefinedMetricWarning: Precision is ill-defined and being set to 0.0 in labels with no predicted samples. Use `zero_division` parameter to control this behavior.\n",
            "  _warn_prf(average, modifier, f\"{metric.capitalize()} is\", len(result))\n",
            "/home/steinerj/.virtualenvs/ethics-4-nlp/lib64/python3.10/site-packages/sklearn/metrics/_classification.py:1509: UndefinedMetricWarning: Precision is ill-defined and being set to 0.0 in labels with no predicted samples. Use `zero_division` parameter to control this behavior.\n",
            "  _warn_prf(average, modifier, f\"{metric.capitalize()} is\", len(result))\n"
          ]
        }
      ],
      "source": [
        "#Write code to get full classification report and print a confusion matrix for test set\n",
        "acc = accuracy_score(Y_actual_test, Y_preds_test)\n",
        "report = classification_report(Y_actual_test, Y_preds_test)\n",
        "conf = confusion_matrix(Y_actual_test, Y_preds_test)"
      ]
    },
    {
      "cell_type": "markdown",
      "metadata": {},
      "source": [
        " Accuracy"
      ]
    },
    {
      "cell_type": "code",
      "execution_count": 37,
      "metadata": {},
      "outputs": [
        {
          "name": "stdout",
          "output_type": "stream",
          "text": [
            "0.9259259259259259\n"
          ]
        }
      ],
      "source": [
        "print(acc)"
      ]
    },
    {
      "cell_type": "markdown",
      "metadata": {},
      "source": [
        "Classification Report"
      ]
    },
    {
      "cell_type": "code",
      "execution_count": 38,
      "metadata": {},
      "outputs": [
        {
          "name": "stdout",
          "output_type": "stream",
          "text": [
            "              precision    recall  f1-score   support\n",
            "\n",
            "         0.0       0.00      0.00      0.00         2\n",
            "         1.0       0.00      0.00      0.00         5\n",
            "         2.0       0.00      0.00      0.00         5\n",
            "         3.0       0.00      0.00      0.00         8\n",
            "         4.0       0.93      1.00      0.96       250\n",
            "\n",
            "    accuracy                           0.93       270\n",
            "   macro avg       0.19      0.20      0.19       270\n",
            "weighted avg       0.86      0.93      0.89       270\n",
            "\n"
          ]
        }
      ],
      "source": [
        "print(report)"
      ]
    },
    {
      "cell_type": "markdown",
      "metadata": {},
      "source": [
        "Confusion Matrix"
      ]
    },
    {
      "cell_type": "code",
      "execution_count": 39,
      "metadata": {},
      "outputs": [
        {
          "name": "stdout",
          "output_type": "stream",
          "text": [
            "[[  0   0   0   0   2]\n",
            " [  0   0   0   0   5]\n",
            " [  0   0   0   0   5]\n",
            " [  0   0   0   0   8]\n",
            " [  0   0   0   0 250]]\n"
          ]
        }
      ],
      "source": [
        "print(conf)"
      ]
    },
    {
      "cell_type": "code",
      "execution_count": 40,
      "metadata": {
        "id": "mcp0ocC91Z_J"
      },
      "outputs": [
        {
          "data": {
            "text/plain": [
              "<Axes: title={'center': 'Confusion Matrix'}, xlabel='Predicted label', ylabel='True label'>"
            ]
          },
          "execution_count": 40,
          "metadata": {},
          "output_type": "execute_result"
        },
        {
          "data": {
            "image/png": "[encoded data removed]",
            "text/plain": [
              "<Figure size 640x480 with 2 Axes>"
            ]
          },
          "metadata": {},
          "output_type": "display_data"
        }
      ],
      "source": [
        "#Plot a confusion matrix for the test set\n",
        "skplt.metrics.plot_confusion_matrix(\n",
        "    Y_actual_test, Y_preds_test\n",
        ")"
      ]
    },
    {
      "cell_type": "markdown",
      "metadata": {},
      "source": [
        "## Question 1.4"
      ]
    },
    {
      "cell_type": "markdown",
      "metadata": {},
      "source": [
        "See Latex document."
      ]
    }
  ],
  "metadata": {
    "colab": {
      "provenance": []
    },
    "kernelspec": {
      "display_name": "Python 3",
      "name": "python3"
    },
    "language_info": {
      "codemirror_mode": {
        "name": "ipython",
        "version": 3
      },
      "file_extension": ".py",
      "mimetype": "text/x-python",
      "name": "python",
      "nbconvert_exporter": "python",
      "pygments_lexer": "ipython3",
      "version": "3.10.14"
    }
  },
  "nbformat": 4,
  "nbformat_minor": 0
}
