{
  "cells": [
    {
      "cell_type": "code",
      "execution_count": 75,
      "metadata": {
        "id": "aGiJQSKm4ZBE"
      },
      "outputs": [],
      "source": [
        "#!pip install portalocker>=2.0.0"
      ]
    },
    {
      "cell_type": "code",
      "execution_count": 76,
      "metadata": {
        "id": "HDUwrWhvIdWR"
      },
      "outputs": [],
      "source": [
        "#pip install scikit-plot"
      ]
    },
    {
      "cell_type": "code",
      "execution_count": 77,
      "metadata": {
        "id": "dnltuEvT7xDk"
      },
      "outputs": [],
      "source": [
        "import re"
      ]
    },
    {
      "cell_type": "code",
      "execution_count": 78,
      "metadata": {
        "id": "Busn2KX--uhe"
      },
      "outputs": [],
      "source": [
        "from torch.utils.data import Dataset, DataLoader"
      ]
    },
    {
      "cell_type": "code",
      "execution_count": 79,
      "metadata": {
        "id": "9Nx7DPJaG3-L"
      },
      "outputs": [],
      "source": [
        "import gensim.downloader"
      ]
    },
    {
      "cell_type": "code",
      "execution_count": 80,
      "metadata": {
        "id": "51OIY_jqG4nk"
      },
      "outputs": [],
      "source": [
        "import torch"
      ]
    },
    {
      "cell_type": "code",
      "execution_count": 81,
      "metadata": {
        "id": "z4jgU5utHDOE"
      },
      "outputs": [],
      "source": [
        "w2v = gensim.downloader.load('word2vec-google-news-300')"
      ]
    },
    {
      "cell_type": "code",
      "execution_count": 82,
      "metadata": {
        "id": "kAozEqB9HFA8"
      },
      "outputs": [
        {
          "data": {
            "text/plain": [
              "tensor([-1.4258e-01, -3.6865e-02,  1.3574e-01, -6.2012e-02,  7.9590e-02,\n",
              "         1.9043e-02, -8.1543e-02, -1.2793e-01, -2.9541e-02,  2.3633e-01,\n",
              "        -1.2158e-01, -2.1484e-01,  1.2988e-01, -2.7100e-02, -5.2002e-02,\n",
              "         2.1582e-01, -1.8164e-01,  5.1025e-02, -1.6016e-01, -1.7676e-01,\n",
              "         1.8311e-02, -4.1260e-02, -2.3242e-01, -1.0315e-02,  1.4551e-01,\n",
              "         5.2490e-02, -3.9648e-01, -1.9287e-02,  2.5177e-03, -1.2695e-02,\n",
              "        -4.3945e-02,  3.0762e-02,  9.5703e-02, -1.7578e-01,  1.0437e-02,\n",
              "         1.8945e-01, -2.3633e-01,  4.3701e-02,  2.8125e-01, -2.0752e-02,\n",
              "        -1.8164e-01, -2.1777e-01,  2.3340e-01,  5.2979e-02, -1.1377e-01,\n",
              "         9.3994e-03, -1.4941e-01,  1.9922e-01, -1.7578e-01,  3.1641e-01,\n",
              "         8.1055e-02, -6.1279e-02, -1.5234e-01, -1.8188e-02,  8.2520e-02,\n",
              "         8.7402e-02, -1.1865e-01, -2.5977e-01, -1.6846e-02,  1.8799e-02,\n",
              "         1.3611e-02, -2.3926e-01, -6.7871e-02, -8.1543e-02,  2.1875e-01,\n",
              "         6.6406e-02,  1.2793e-01,  1.6406e-01,  2.2827e-02, -1.3867e-01,\n",
              "        -9.4238e-02,  3.5156e-02,  7.3730e-02, -1.0645e-01,  1.4771e-02,\n",
              "        -6.1523e-02,  2.4805e-01,  9.2285e-02,  1.4526e-02,  2.9297e-01,\n",
              "         2.4707e-01, -3.4668e-02, -1.9238e-01,  2.2888e-03,  1.3379e-01,\n",
              "         5.0537e-02, -1.5625e-01,  2.0215e-01, -3.3936e-02, -1.1035e-01,\n",
              "         1.3184e-02, -1.8457e-01,  6.7383e-02,  9.2285e-02,  2.7100e-02,\n",
              "         1.4465e-02,  7.3730e-02, -1.9629e-01,  6.3965e-02,  1.4648e-01,\n",
              "         3.6719e-01, -3.6719e-01,  1.1328e-01, -5.6641e-02,  5.2734e-02,\n",
              "        -1.6602e-01,  1.5918e-01, -1.2891e-01,  2.2168e-01,  1.0791e-01,\n",
              "         1.5625e-01,  2.6562e-01, -1.5039e-01,  6.8359e-02,  2.0898e-01,\n",
              "        -1.7090e-02, -1.3867e-01,  3.2617e-01,  2.3730e-01, -9.0332e-02,\n",
              "         9.2773e-03, -8.5938e-02, -1.2256e-01,  1.1279e-01,  1.1719e-01,\n",
              "        -3.3203e-02,  1.6211e-01, -1.3379e-01,  1.4551e-01, -8.6426e-02,\n",
              "        -9.1309e-02, -5.3711e-02, -7.9102e-02, -8.4839e-03, -1.7871e-01,\n",
              "        -8.6670e-03,  4.1211e-01,  8.3496e-02, -2.6758e-01,  4.0283e-02,\n",
              "        -6.6406e-02,  8.7402e-02, -1.8750e-01, -9.3750e-02, -8.9844e-02,\n",
              "         6.4941e-02,  1.7480e-01, -1.8555e-01, -1.4941e-01, -2.1094e-01,\n",
              "         1.2598e-01, -7.4707e-02, -1.9434e-01, -1.9165e-02, -1.8945e-01,\n",
              "        -1.8457e-01, -1.9043e-01, -1.3770e-01, -9.0332e-02, -2.0142e-02,\n",
              "         3.8818e-02,  9.1309e-02,  2.5586e-01, -1.3574e-01,  5.7861e-02,\n",
              "        -1.8555e-01,  4.5898e-01,  1.1816e-01,  4.4060e-04, -4.9072e-02,\n",
              "         6.2500e-02,  1.1084e-01, -1.9336e-01, -2.5977e-01,  1.8359e-01,\n",
              "         1.9922e-01, -1.1719e-01, -1.6699e-01, -1.4355e-01,  7.4463e-03,\n",
              "        -1.2598e-01,  5.0049e-02, -7.2266e-02, -1.0620e-02,  2.1191e-01,\n",
              "         9.9121e-02, -1.8848e-01, -4.9561e-02,  8.8379e-02, -1.5020e-05,\n",
              "        -1.2695e-01,  3.0469e-01,  2.4902e-02,  4.2419e-03,  6.6406e-02,\n",
              "        -3.2617e-01,  4.6094e-01, -1.5039e-01, -1.4844e-01, -2.9541e-02,\n",
              "         3.1055e-01,  1.7285e-01, -1.4648e-01,  6.9336e-02, -1.3770e-01,\n",
              "        -5.2002e-02, -1.9141e-01, -3.4912e-02,  1.9727e-01, -2.3438e-01,\n",
              "         9.0820e-02,  3.2422e-01, -4.7070e-01,  1.7090e-02, -2.3535e-01,\n",
              "        -8.0566e-02,  3.1445e-01,  2.2095e-02, -1.4258e-01, -2.7954e-02,\n",
              "        -2.2461e-01,  2.6978e-02,  2.6562e-01, -3.8086e-02,  2.6123e-02,\n",
              "         1.7188e-01, -8.5938e-02,  7.7637e-02, -2.5146e-02,  8.7891e-02,\n",
              "         1.0071e-02,  1.6235e-02,  3.1836e-01, -1.0938e-01,  2.8516e-01,\n",
              "         1.0010e-01, -3.0640e-02,  3.6865e-02,  1.3086e-01,  1.5918e-01,\n",
              "        -1.1133e-01,  4.4556e-03, -3.4424e-02, -7.7148e-02, -2.1118e-02,\n",
              "        -2.1289e-01, -1.2402e-01, -1.1536e-02,  6.4941e-02, -1.8555e-02,\n",
              "        -2.0020e-01, -2.4805e-01,  9.2285e-02, -1.4844e-01, -6.9336e-02,\n",
              "         5.7983e-03, -3.4180e-02,  1.4453e-01, -9.3750e-02,  1.2695e-01,\n",
              "        -4.1504e-02,  3.1641e-01, -7.0312e-02,  4.9561e-02,  1.9531e-01,\n",
              "         1.8921e-02,  1.0986e-02, -7.4707e-02, -1.2891e-01, -1.2988e-01,\n",
              "         1.0303e-01,  8.0078e-02,  6.2561e-03,  1.4099e-02, -1.4355e-01,\n",
              "         1.3611e-02, -4.6387e-02, -3.2227e-01, -8.5938e-02, -1.5625e-01,\n",
              "         1.4648e-01,  2.1680e-01,  1.8164e-01, -1.2207e-01, -2.3047e-01,\n",
              "        -1.9287e-02, -1.2695e-02,  1.0986e-01, -1.5918e-01,  1.1768e-01,\n",
              "         5.2979e-02,  2.0898e-01, -1.3770e-01,  1.6211e-01, -1.7285e-01,\n",
              "         3.6377e-02, -1.2598e-01, -1.4465e-02, -1.2695e-01, -2.5977e-01])"
            ]
          },
          "execution_count": 82,
          "metadata": {},
          "output_type": "execute_result"
        }
      ],
      "source": [
        "torch.tensor(w2v[\"test\"])"
      ]
    },
    {
      "cell_type": "code",
      "execution_count": 83,
      "metadata": {
        "id": "fXfczWYnHIam"
      },
      "outputs": [
        {
          "data": {
            "text/plain": [
              "['This', 'short', 'text']"
            ]
          },
          "execution_count": 83,
          "metadata": {},
          "output_type": "execute_result"
        }
      ],
      "source": [
        "from gensim.parsing.preprocessing import (preprocess_string,\n",
        "                                          strip_tags,\n",
        "                                          strip_punctuation,\n",
        "                                          strip_multiple_whitespaces,\n",
        "                                          strip_numeric,\n",
        "                                          remove_stopwords)\n",
        "\n",
        "\n",
        "# We pick a subset of the default filters,\n",
        "# in particular, we do not take\n",
        "# strip_short() and stem_text().\n",
        "FILTERS = [strip_punctuation,\n",
        "           strip_tags,\n",
        "           strip_multiple_whitespaces,\n",
        "           strip_numeric,\n",
        "           remove_stopwords]\n",
        "\n",
        "# See how the sentece is transformed into tokes (words)\n",
        "preprocess_string('This is a \"short\" text!', FILTERS)"
      ]
    },
    {
      "cell_type": "markdown",
      "metadata": {
        "id": "l7EUtkmuVCuG"
      },
      "source": [
        "# Dataset Creation"
      ]
    },
    {
      "cell_type": "code",
      "execution_count": 84,
      "metadata": {
        "id": "lqZ630So4_Mc"
      },
      "outputs": [],
      "source": [
        "import pandas as pd\n",
        "#Load All_Beauty training, validation and testing split using read_csv from pandas library\n",
        "#Write your code here\n",
        "all_beauty_training_data = pd.read_csv(\n",
        "    filepath_or_buffer='./data/All_Beauty_Split_train.csv'\n",
        ")\n",
        "\n",
        "all_beauty_test_data = pd.read_csv(\n",
        "    filepath_or_buffer='data/All_Beauty_Split_test.csv'\n",
        ")\n",
        "\n",
        "all_beauty_validation_data = pd.read_csv(\n",
        "    filepath_or_buffer='data/All_Beauty_Split_val.csv'\n",
        ")"
      ]
    },
    {
      "cell_type": "code",
      "execution_count": 85,
      "metadata": {
        "id": "P9RgXSPpMtTz"
      },
      "outputs": [],
      "source": [
        "#Load Gift Card training, validation and testing split using read_csv from pandas library\n",
        "#Write your code here\n",
        "gift_cards_training_data = pd.read_csv(\n",
        "    filepath_or_buffer='./data/Gift_Cards_Split_train.csv'\n",
        ")\n",
        "\n",
        "gift_cards_test_data = pd.read_csv(\n",
        "    filepath_or_buffer='data/Gift_Cards_Split_test.csv'\n",
        ")\n",
        "\n",
        "gift_cards_validation_data = pd.read_csv(\n",
        "    filepath_or_buffer='data/Gift_Cards_Split_val.csv'\n",
        ")"
      ]
    },
    {
      "cell_type": "code",
      "execution_count": 86,
      "metadata": {
        "id": "9JrShhHePz4H"
      },
      "outputs": [],
      "source": [
        "#Concatenate the two splits to get a combined dataframe\n",
        "#Write your code here\n",
        "trainig_data = pd.concat([all_beauty_training_data, gift_cards_training_data], ignore_index=True)\n",
        "test_data = pd.concat([all_beauty_test_data, gift_cards_test_data], ignore_index=True)\n",
        "validation_data = pd.concat([all_beauty_validation_data, gift_cards_validation_data], ignore_index=True)"
      ]
    },
    {
      "cell_type": "code",
      "execution_count": 87,
      "metadata": {
        "id": "KqgLqSK28X0C"
      },
      "outputs": [],
      "source": [
        "#Creating dataset class\n",
        "class reviews(Dataset):\n",
        "    def __init__(self,split):\n",
        "        super(reviews,self).__init__()\n",
        "\n",
        "        if split == 'train':\n",
        "        #Give train dataframe\n",
        "            df_data = trainig_data\n",
        "        elif split == 'val':\n",
        "        #Give validation dataframe\n",
        "            df_data = validation_data\n",
        "        elif split == 'test':\n",
        "        #Give test dataframe\n",
        "            df_data = test_data\n",
        "        else:\n",
        "            raise Exception(f\"wrong split: {split}\")\n",
        "        #List for containing (input,output) pairs\n",
        "        self.data = []\n",
        "        #Make a list of ratings from df_data\n",
        "        ratings = df_data['Rating']\n",
        "        #Make a list of reviews from df_data\n",
        "        text = df_data['Text']\n",
        "        for i in range(len(text)):\n",
        "            #Creating list of tokens for each review\n",
        "            txt = preprocess_string(text[i])\n",
        "            #Appending (input,output) pairs to list\n",
        "            self.data.append([txt,ratings[i]])\n",
        "\n",
        "    def vectorise(self,txt):\n",
        "        #Final tensor\n",
        "        X_tensor = torch.zeros(300)\n",
        "        l=0\n",
        "        for i in txt:\n",
        "          #Check if the word is in the vocabulary of word2vec\n",
        "          if i in w2v:\n",
        "            l = l+1\n",
        "            #If so add it to the X_tensor\n",
        "            X_tensor += torch.tensor(w2v[i])\n",
        "        #Divide X_tensor by number of vectors that were added. This is called mean pooling\n",
        "        X_tensor = X_tensor / l\n",
        "        return X_tensor\n",
        "\n",
        "    def __getitem__(self,index):\n",
        "        sent_tensor = self.vectorise(self.data[index][0])\n",
        "        return [sent_tensor,(self.data[index][1]-1)]\n",
        "    def __len__(self):\n",
        "        return len(self.data)"
      ]
    },
    {
      "cell_type": "code",
      "execution_count": 88,
      "metadata": {
        "id": "klu4SIf10sLw"
      },
      "outputs": [],
      "source": [
        "import torch\n",
        "\n",
        "target_classes = [\"1\", \"2\", \"3\", \"4\", \"5\"]\n",
        "\n",
        "train_dataset = reviews(\"train\")\n",
        "val_dataset = reviews(\"val\")\n",
        "test_dataset = reviews(\"test\")\n",
        "\n",
        "train_loader = DataLoader(train_dataset, batch_size=128)\n",
        "val_loader = DataLoader(val_dataset, batch_size=128)\n",
        "test_loader  = DataLoader(test_dataset, batch_size=128)"
      ]
    },
    {
      "cell_type": "code",
      "execution_count": 89,
      "metadata": {
        "id": "zES2i4031CKb"
      },
      "outputs": [
        {
          "name": "stdout",
          "output_type": "stream",
          "text": [
            "torch.Size([128, 300]) torch.Size([128])\n"
          ]
        }
      ],
      "source": [
        "for X, Y in train_loader:\n",
        "    print(X.shape, Y.shape)\n",
        "    break"
      ]
    },
    {
      "cell_type": "markdown",
      "metadata": {
        "id": "xiWHJZDkVHS8"
      },
      "source": [
        "# Model Training"
      ]
    },
    {
      "cell_type": "code",
      "execution_count": 102,
      "metadata": {
        "id": "u9dsc1gO1LrM"
      },
      "outputs": [],
      "source": [
        "from torch import nn\n",
        "from torch.nn import functional as F\n",
        "\n",
        "#Embedding dimension of Word2vec\n",
        "embed_len = 300\n",
        "\n",
        "#Create a Neural Network for mapping the reviews to probabilities of different ratings\n",
        "class EmbeddingClassifier(nn.Module):\n",
        "    def __init__(self):\n",
        "        super(EmbeddingClassifier, self).__init__()\n",
        "        #Create a Neural Network with input dimension embed_len, hidden dimensions 256,128,64 and output dimension the length of target class.\n",
        "        #Use Relu as the activation function between each layer.\n",
        "        self.seq = nn.Sequential(\n",
        "            nn.Linear(embed_len, 256),\n",
        "            nn.ReLU(),\n",
        "            nn.Linear(256, 128),\n",
        "            nn.ReLU(),\n",
        "            nn.Linear(128, 64),\n",
        "            nn.ReLU(),\n",
        "            nn.Linear(64, len(target_classes)),\n",
        "            nn.Softmax(1)\n",
        "        )\n",
        "\n",
        "    def forward(self, X_batch):\n",
        "        return self.seq(X_batch)"
      ]
    },
    {
      "cell_type": "code",
      "execution_count": 100,
      "metadata": {
        "id": "PIrB0oXf1Oo2"
      },
      "outputs": [],
      "source": [
        "from tqdm import tqdm\n",
        "from sklearn.metrics import accuracy_score\n",
        "import gc\n",
        "\n",
        "def CalcValLossAndAccuracy(model, loss_fn, val_loader):\n",
        "    with torch.no_grad():\n",
        "        Y_shuffled, Y_preds, losses = [],[],[]\n",
        "        for X, Y in val_loader:\n",
        "            #Predict output probabilities for all target classes for input X\n",
        "            preds = model(X)\n",
        "            loss = loss_fn(preds, Y.long())\n",
        "            losses.append(loss.item())\n",
        "\n",
        "            Y_shuffled.append(Y)\n",
        "            #Get the predicted class from the output probabilities: The class with the highest probability. Append to Y_preds list(use argmax)\n",
        "\n",
        "\n",
        "        Y_shuffled = torch.cat(Y_shuffled)\n",
        "        Y_preds = torch.cat(Y_preds)\n",
        "\n",
        "        print(\"Valid Loss : {:.3f}\".format(torch.tensor(losses).mean()))\n",
        "        print(\"Valid Acc  : {:.3f}\".format(accuracy_score(Y_shuffled.detach().numpy(), Y_preds.detach().numpy())))\n",
        "\n",
        "def TrainModel(model, loss_fn, optimizer, train_loader, val_loader, epochs=10):\n",
        "    for i in range(1, epochs+1):\n",
        "        losses = []\n",
        "        for X, Y in tqdm(train_loader):\n",
        "            #Predict output probabilities for all target classes for input X\n",
        "            Y_preds = model(X)\n",
        "            loss = loss_fn(Y_preds, Y.long())\n",
        "            losses.append(loss.item())\n",
        "\n",
        "            optimizer.zero_grad()\n",
        "            loss.backward()\n",
        "            optimizer.step()\n",
        "\n",
        "        if i%5==0:\n",
        "            print(\"Train Loss : {:.3f}\".format(torch.tensor(losses).mean()))\n",
        "            CalcValLossAndAccuracy(model, loss_fn, val_loader)"
      ]
    },
    {
      "cell_type": "code",
      "execution_count": 106,
      "metadata": {
        "id": "7NH3fPjU1SP6"
      },
      "outputs": [
        {
          "name": "stderr",
          "output_type": "stream",
          "text": [
            "  0%|          | 0/38 [00:00<?, ?it/s]"
          ]
        },
        {
          "name": "stderr",
          "output_type": "stream",
          "text": [
            "100%|██████████| 38/38 [00:15<00:00,  2.41it/s]\n",
            "100%|██████████| 38/38 [00:05<00:00,  6.55it/s]\n",
            "100%|██████████| 38/38 [00:01<00:00, 29.45it/s]\n",
            "100%|██████████| 38/38 [00:01<00:00, 29.39it/s]\n",
            "100%|██████████| 38/38 [00:01<00:00, 28.53it/s]\n"
          ]
        },
        {
          "name": "stdout",
          "output_type": "stream",
          "text": [
            "Train Loss : nan\n"
          ]
        },
        {
          "ename": "RuntimeError",
          "evalue": "torch.cat(): expected a non-empty list of Tensors",
          "output_type": "error",
          "traceback": [
            "\u001b[0;31m---------------------------------------------------------------------------\u001b[0m",
            "\u001b[0;31mRuntimeError\u001b[0m                              Traceback (most recent call last)",
            "Cell \u001b[0;32mIn[106], line 10\u001b[0m\n\u001b[1;32m      7\u001b[0m embed_classifier \u001b[38;5;241m=\u001b[39m EmbeddingClassifier()\n\u001b[1;32m      8\u001b[0m optimizer \u001b[38;5;241m=\u001b[39m Adam(embed_classifier\u001b[38;5;241m.\u001b[39mparameters(), lr\u001b[38;5;241m=\u001b[39mlearning_rate)\n\u001b[0;32m---> 10\u001b[0m \u001b[43mTrainModel\u001b[49m\u001b[43m(\u001b[49m\u001b[43membed_classifier\u001b[49m\u001b[43m,\u001b[49m\u001b[43m \u001b[49m\u001b[43mloss_fn\u001b[49m\u001b[43m,\u001b[49m\u001b[43m \u001b[49m\u001b[43moptimizer\u001b[49m\u001b[43m,\u001b[49m\u001b[43m \u001b[49m\u001b[43mtrain_loader\u001b[49m\u001b[43m,\u001b[49m\u001b[43m \u001b[49m\u001b[43mtest_loader\u001b[49m\u001b[43m,\u001b[49m\u001b[43m \u001b[49m\u001b[43mepochs\u001b[49m\u001b[43m)\u001b[49m\n",
            "Cell \u001b[0;32mIn[100], line 39\u001b[0m, in \u001b[0;36mTrainModel\u001b[0;34m(model, loss_fn, optimizer, train_loader, val_loader, epochs)\u001b[0m\n\u001b[1;32m     37\u001b[0m \u001b[38;5;28;01mif\u001b[39;00m i\u001b[38;5;241m%\u001b[39m\u001b[38;5;241m5\u001b[39m\u001b[38;5;241m==\u001b[39m\u001b[38;5;241m0\u001b[39m:\n\u001b[1;32m     38\u001b[0m     \u001b[38;5;28mprint\u001b[39m(\u001b[38;5;124m\"\u001b[39m\u001b[38;5;124mTrain Loss : \u001b[39m\u001b[38;5;132;01m{:.3f}\u001b[39;00m\u001b[38;5;124m\"\u001b[39m\u001b[38;5;241m.\u001b[39mformat(torch\u001b[38;5;241m.\u001b[39mtensor(losses)\u001b[38;5;241m.\u001b[39mmean()))\n\u001b[0;32m---> 39\u001b[0m     \u001b[43mCalcValLossAndAccuracy\u001b[49m\u001b[43m(\u001b[49m\u001b[43mmodel\u001b[49m\u001b[43m,\u001b[49m\u001b[43m \u001b[49m\u001b[43mloss_fn\u001b[49m\u001b[43m,\u001b[49m\u001b[43m \u001b[49m\u001b[43mval_loader\u001b[49m\u001b[43m)\u001b[49m\n",
            "Cell \u001b[0;32mIn[100], line 19\u001b[0m, in \u001b[0;36mCalcValLossAndAccuracy\u001b[0;34m(model, loss_fn, val_loader)\u001b[0m\n\u001b[1;32m     15\u001b[0m     \u001b[38;5;66;03m#Get the predicted class from the output probabilities: The class with the highest probability. Append to Y_preds list(use argmax)\u001b[39;00m\n\u001b[1;32m     18\u001b[0m Y_shuffled \u001b[38;5;241m=\u001b[39m torch\u001b[38;5;241m.\u001b[39mcat(Y_shuffled)\n\u001b[0;32m---> 19\u001b[0m Y_preds \u001b[38;5;241m=\u001b[39m \u001b[43mtorch\u001b[49m\u001b[38;5;241;43m.\u001b[39;49m\u001b[43mcat\u001b[49m\u001b[43m(\u001b[49m\u001b[43mY_preds\u001b[49m\u001b[43m)\u001b[49m\n\u001b[1;32m     21\u001b[0m \u001b[38;5;28mprint\u001b[39m(\u001b[38;5;124m\"\u001b[39m\u001b[38;5;124mValid Loss : \u001b[39m\u001b[38;5;132;01m{:.3f}\u001b[39;00m\u001b[38;5;124m\"\u001b[39m\u001b[38;5;241m.\u001b[39mformat(torch\u001b[38;5;241m.\u001b[39mtensor(losses)\u001b[38;5;241m.\u001b[39mmean()))\n\u001b[1;32m     22\u001b[0m \u001b[38;5;28mprint\u001b[39m(\u001b[38;5;124m\"\u001b[39m\u001b[38;5;124mValid Acc  : \u001b[39m\u001b[38;5;132;01m{:.3f}\u001b[39;00m\u001b[38;5;124m\"\u001b[39m\u001b[38;5;241m.\u001b[39mformat(accuracy_score(Y_shuffled\u001b[38;5;241m.\u001b[39mdetach()\u001b[38;5;241m.\u001b[39mnumpy(), Y_preds\u001b[38;5;241m.\u001b[39mdetach()\u001b[38;5;241m.\u001b[39mnumpy())))\n",
            "\u001b[0;31mRuntimeError\u001b[0m: torch.cat(): expected a non-empty list of Tensors"
          ]
        }
      ],
      "source": [
        "from torch.optim import Adam\n",
        "\n",
        "epochs = 25\n",
        "learning_rate = 1e-3\n",
        "\n",
        "loss_fn = nn.CrossEntropyLoss()\n",
        "embed_classifier = EmbeddingClassifier()\n",
        "optimizer = Adam(embed_classifier.parameters(), lr=learning_rate)\n",
        "\n",
        "TrainModel(embed_classifier, loss_fn, optimizer, train_loader, test_loader, epochs)"
      ]
    },
    {
      "cell_type": "markdown",
      "metadata": {
        "id": "BhsN_oQBVLu4"
      },
      "source": [
        "# Evaluation"
      ]
    },
    {
      "cell_type": "code",
      "execution_count": null,
      "metadata": {
        "id": "b_0D0Y9ghXcn"
      },
      "outputs": [],
      "source": [
        "def MakePredictions(model, loader):\n",
        "    Y_shuffled, Y_preds = [], []\n",
        "    for X, Y in loader:\n",
        "        preds = model(X)\n",
        "        Y_preds.append(preds)\n",
        "        Y_shuffled.append(Y)\n",
        "    gc.collect()\n",
        "    Y_preds, Y_shuffled = torch.cat(Y_preds), torch.cat(Y_shuffled)\n",
        "\n",
        "    return Y_shuffled.detach().numpy(), F.softmax(Y_preds, dim=-1).argmax(dim=-1).detach().numpy()\n",
        "\n",
        "Y_actual_val, Y_preds_val = MakePredictions(embed_classifier, val_loader)"
      ]
    },
    {
      "cell_type": "code",
      "execution_count": null,
      "metadata": {
        "id": "4akk395rhYEi"
      },
      "outputs": [],
      "source": [
        "from sklearn.metrics import accuracy_score, classification_report, confusion_matrix\n",
        "\n",
        "#Write code to get full classification report and print a confusion matrix for validation set"
      ]
    },
    {
      "cell_type": "code",
      "execution_count": null,
      "metadata": {
        "id": "HqefIiwNhaCW"
      },
      "outputs": [],
      "source": [
        "from sklearn.metrics import confusion_matrix\n",
        "import scikitplot as skplt\n",
        "import matplotlib.pyplot as plt\n",
        "import numpy as np\n",
        "\n",
        "#Plot a confusion matrix for the validation set"
      ]
    },
    {
      "cell_type": "code",
      "execution_count": null,
      "metadata": {
        "id": "OCTP91W21Upe"
      },
      "outputs": [],
      "source": [
        "Y_actual_test, Y_preds_test = MakePredictions(embed_classifier, test_loader)"
      ]
    },
    {
      "cell_type": "code",
      "execution_count": null,
      "metadata": {
        "id": "R2Lbn3HL1XkG"
      },
      "outputs": [],
      "source": [
        "#Write code to get full classification report and print a confusion matrix for test set"
      ]
    },
    {
      "cell_type": "code",
      "execution_count": null,
      "metadata": {
        "id": "mcp0ocC91Z_J"
      },
      "outputs": [],
      "source": [
        "#Plot a confusion matrix for the test set"
      ]
    }
  ],
  "metadata": {
    "colab": {
      "provenance": []
    },
    "kernelspec": {
      "display_name": "Python 3",
      "name": "python3"
    },
    "language_info": {
      "codemirror_mode": {
        "name": "ipython",
        "version": 3
      },
      "file_extension": ".py",
      "mimetype": "text/x-python",
      "name": "python",
      "nbconvert_exporter": "python",
      "pygments_lexer": "ipython3",
      "version": "3.10.14"
    }
  },
  "nbformat": 4,
  "nbformat_minor": 0
}
