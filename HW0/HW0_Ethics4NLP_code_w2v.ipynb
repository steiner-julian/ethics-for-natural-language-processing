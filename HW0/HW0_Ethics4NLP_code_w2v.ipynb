{
  "cells": [
    {
      "cell_type": "code",
      "execution_count": 20,
      "metadata": {
        "id": "aGiJQSKm4ZBE"
      },
      "outputs": [],
      "source": [
        "#!pip install portalocker>=2.0.0"
      ]
    },
    {
      "cell_type": "code",
      "execution_count": 21,
      "metadata": {
        "id": "HDUwrWhvIdWR"
      },
      "outputs": [],
      "source": [
        "#pip install scikit-plot"
      ]
    },
    {
      "cell_type": "code",
      "execution_count": 22,
      "metadata": {
        "id": "dnltuEvT7xDk"
      },
      "outputs": [],
      "source": [
        "import re"
      ]
    },
    {
      "cell_type": "code",
      "execution_count": 23,
      "metadata": {
        "id": "Busn2KX--uhe"
      },
      "outputs": [],
      "source": [
        "from torch.utils.data import Dataset, DataLoader"
      ]
    },
    {
      "cell_type": "code",
      "execution_count": 24,
      "metadata": {
        "id": "9Nx7DPJaG3-L"
      },
      "outputs": [],
      "source": [
        "import gensim.downloader"
      ]
    },
    {
      "cell_type": "code",
      "execution_count": 25,
      "metadata": {
        "id": "51OIY_jqG4nk"
      },
      "outputs": [],
      "source": [
        "import torch"
      ]
    },
    {
      "cell_type": "code",
      "execution_count": 26,
      "metadata": {
        "id": "z4jgU5utHDOE"
      },
      "outputs": [],
      "source": [
        "w2v = gensim.downloader.load('word2vec-google-news-300')"
      ]
    },
    {
      "cell_type": "code",
      "execution_count": 27,
      "metadata": {
        "id": "kAozEqB9HFA8"
      },
      "outputs": [
        {
          "data": {
            "text/plain": [
              "tensor([-0.0118,  0.0796,  0.0168, -0.0898,  0.0864,  0.0242,  0.0255, -0.1895,\n",
              "         0.1416,  0.0845,  0.1699, -0.2500, -0.0535, -0.0283,  0.0454, -0.1475,\n",
              "         0.0123,  0.0564,  0.0195,  0.2158,  0.1572, -0.1592,  0.0884, -0.1060,\n",
              "        -0.0041, -0.0233, -0.0493,  0.0815,  0.0381,  0.0018,  0.0552,  0.0374,\n",
              "        -0.1465, -0.0381, -0.0552,  0.0114, -0.0786, -0.1494,  0.0903,  0.0371,\n",
              "         0.0884, -0.0148,  0.1826,  0.0967, -0.0552,  0.1631,  0.0396,  0.1641,\n",
              "         0.0840,  0.0280, -0.0344,  0.2969,  0.1406,  0.0986, -0.1846, -0.2637,\n",
              "        -0.1211,  0.1826,  0.0228, -0.0425, -0.0206,  0.0825, -0.0014,  0.0225,\n",
              "        -0.0762,  0.0271, -0.0471,  0.0564, -0.0025,  0.1133,  0.1289, -0.0967,\n",
              "         0.0674, -0.0815, -0.1055,  0.0698, -0.0229,  0.0062,  0.0184, -0.0261,\n",
              "         0.0579,  0.0771,  0.0102,  0.1797,  0.1299, -0.0471, -0.1670,  0.2471,\n",
              "        -0.0303,  0.0522, -0.1475,  0.0674, -0.0562, -0.4863, -0.0077, -0.0269,\n",
              "         0.0840, -0.0287, -0.0708, -0.0820, -0.0199, -0.1885,  0.1865,  0.1855,\n",
              "        -0.0520, -0.1279,  0.1011,  0.0801,  0.1167, -0.2188,  0.1196,  0.0586,\n",
              "         0.0142, -0.1621,  0.1030,  0.0791, -0.0020,  0.1523, -0.0713,  0.0747,\n",
              "        -0.1455, -0.0287,  0.0669,  0.0188, -0.0522,  0.0056, -0.0540, -0.0903,\n",
              "        -0.0757,  0.1079,  0.0408, -0.1543, -0.0067,  0.0471, -0.1992, -0.1914,\n",
              "         0.0135, -0.0977, -0.0698,  0.1123, -0.2500,  0.0170,  0.1270, -0.1235,\n",
              "         0.0356,  0.0620, -0.0498,  0.1094, -0.0962, -0.0474,  0.0688,  0.0435,\n",
              "         0.0645,  0.1123, -0.1719, -0.0569, -0.0747, -0.1206,  0.1016, -0.0957,\n",
              "        -0.2598,  0.1680,  0.0742, -0.1152,  0.0596, -0.0649, -0.0063, -0.0510,\n",
              "         0.0237,  0.0231, -0.2373, -0.1270, -0.0094, -0.1064, -0.0596,  0.0835,\n",
              "         0.2168,  0.0124, -0.1895,  0.2617, -0.1602, -0.0310,  0.1387, -0.0147,\n",
              "         0.0488, -0.1621,  0.0356,  0.1611, -0.0162, -0.0708,  0.0383, -0.1289,\n",
              "         0.2061,  0.0334, -0.1934,  0.1445,  0.1011,  0.0732, -0.0603,  0.0149,\n",
              "        -0.1660,  0.0282, -0.1016, -0.1543,  0.0967,  0.0172, -0.0058,  0.0825,\n",
              "         0.0708, -0.1797, -0.0933,  0.0173, -0.2393, -0.0334, -0.1523,  0.1279,\n",
              "        -0.0437,  0.0908, -0.3555, -0.0250,  0.1250, -0.0277, -0.0388, -0.0493,\n",
              "        -0.1187, -0.0132, -0.0339,  0.1816, -0.0182,  0.0496,  0.0315,  0.0082,\n",
              "        -0.1318, -0.1230, -0.1187,  0.2871,  0.0083, -0.0933, -0.0942,  0.0449,\n",
              "        -0.0405, -0.1650, -0.0408, -0.1318, -0.0830,  0.2422,  0.0649,  0.1523,\n",
              "         0.1680, -0.0762,  0.1279,  0.0747,  0.2168,  0.0173, -0.1338,  0.0530,\n",
              "        -0.1299,  0.0013, -0.0486,  0.1592, -0.1235, -0.0525,  0.0767,  0.0625,\n",
              "         0.2412,  0.1157, -0.0439, -0.0216, -0.1279,  0.0237,  0.2441,  0.0491,\n",
              "         0.2100, -0.1406,  0.1206, -0.0532,  0.0137, -0.1079,  0.1484, -0.1553,\n",
              "         0.1494, -0.1211, -0.0605,  0.2041, -0.1021,  0.0262,  0.0322,  0.0786,\n",
              "        -0.1680,  0.1436, -0.1953,  0.0393, -0.1099,  0.0075,  0.0588, -0.0520,\n",
              "        -0.0299, -0.1367,  0.1533, -0.0079])"
            ]
          },
          "execution_count": 27,
          "metadata": {},
          "output_type": "execute_result"
        }
      ],
      "source": [
        "torch.tensor(w2v[\"home\"]) "
      ]
    },
    {
      "cell_type": "code",
      "execution_count": 28,
      "metadata": {
        "id": "fXfczWYnHIam"
      },
      "outputs": [
        {
          "data": {
            "text/plain": [
              "['This', 'short', 'text']"
            ]
          },
          "execution_count": 28,
          "metadata": {},
          "output_type": "execute_result"
        }
      ],
      "source": [
        "from gensim.parsing.preprocessing import (preprocess_string,\n",
        "                                          strip_tags,\n",
        "                                          strip_punctuation,\n",
        "                                          strip_multiple_whitespaces,\n",
        "                                          strip_numeric,\n",
        "                                          remove_stopwords)\n",
        "\n",
        "\n",
        "# We pick a subset of the default filters,\n",
        "# in particular, we do not take\n",
        "# strip_short() and stem_text().\n",
        "FILTERS = [strip_punctuation,\n",
        "           strip_tags,\n",
        "           strip_multiple_whitespaces,\n",
        "           strip_numeric,\n",
        "           remove_stopwords]\n",
        "\n",
        "# See how the sentece is transformed into tokes (words)\n",
        "preprocess_string('This is a \"short\" text!', FILTERS)"
      ]
    },
    {
      "cell_type": "markdown",
      "metadata": {
        "id": "l7EUtkmuVCuG"
      },
      "source": [
        "# Dataset Creation"
      ]
    },
    {
      "cell_type": "code",
      "execution_count": 29,
      "metadata": {
        "id": "lqZ630So4_Mc"
      },
      "outputs": [],
      "source": [
        "import pandas as pd\n",
        "#Load All_Beauty training, validation and testing split using read_csv from pandas library\n",
        "#Write your code here\n",
        "all_beauty_training_data = pd.read_csv(\n",
        "    filepath_or_buffer='./data/All_Beauty_Split_train.csv'\n",
        ")\n",
        "\n",
        "all_beauty_test_data = pd.read_csv(\n",
        "    filepath_or_buffer='data/All_Beauty_Split_test.csv'\n",
        ")\n",
        "\n",
        "all_beauty_validation_data = pd.read_csv(\n",
        "    filepath_or_buffer='data/All_Beauty_Split_val.csv'\n",
        ")"
      ]
    },
    {
      "cell_type": "code",
      "execution_count": 30,
      "metadata": {
        "id": "P9RgXSPpMtTz"
      },
      "outputs": [],
      "source": [
        "#Load Gift Card training, validation and testing split using read_csv from pandas library\n",
        "#Write your code here\n",
        "gift_cards_training_data = pd.read_csv(\n",
        "    filepath_or_buffer='./data/Gift_Cards_Split_train.csv'\n",
        ")\n",
        "\n",
        "gift_cards_test_data = pd.read_csv(\n",
        "    filepath_or_buffer='data/Gift_Cards_Split_test.csv'\n",
        ")\n",
        "\n",
        "gift_cards_validation_data = pd.read_csv(\n",
        "    filepath_or_buffer='data/Gift_Cards_Split_val.csv'\n",
        ")"
      ]
    },
    {
      "cell_type": "code",
      "execution_count": 31,
      "metadata": {
        "id": "9JrShhHePz4H"
      },
      "outputs": [],
      "source": [
        "#Concatenate the two splits to get a combined dataframe\n",
        "#Write your code here\n",
        "trainig_data = pd.concat([all_beauty_training_data, gift_cards_training_data], ignore_index=True)\n",
        "test_data = pd.concat([all_beauty_test_data, gift_cards_test_data], ignore_index=True)\n",
        "validation_data = pd.concat([all_beauty_validation_data, gift_cards_validation_data], ignore_index=True)"
      ]
    },
    {
      "cell_type": "code",
      "execution_count": 32,
      "metadata": {
        "id": "KqgLqSK28X0C"
      },
      "outputs": [],
      "source": [
        "#Creating dataset class\n",
        "class reviews(Dataset):\n",
        "    def __init__(self,split):\n",
        "        super(reviews,self).__init__()\n",
        "\n",
        "        if split == 'train':\n",
        "        #Give train dataframe\n",
        "            df_data = trainig_data\n",
        "        elif split == 'val':\n",
        "        #Give validation dataframe\n",
        "            df_data = validation_data\n",
        "        elif split == 'test':\n",
        "        #Give test dataframe\n",
        "            df_data = test_data\n",
        "        else:\n",
        "            raise Exception(f\"wrong split: {split}\")\n",
        "        #List for containing (input,output) pairs\n",
        "        self.data = []\n",
        "        #Make a list of ratings from df_data\n",
        "        ratings = df_data['Rating']\n",
        "        #Make a list of reviews from df_data\n",
        "        text = df_data['Text']\n",
        "\n",
        "        if len(text) == 0:\n",
        "            print(\"0\")\n",
        "\n",
        "        for i in range(len(text)):\n",
        "            #Creating list of tokens for each review\n",
        "            txt = preprocess_string(text[i], filters=FILTERS)\n",
        "            #Appending (input,output) pairs to list\n",
        "            self.data.append([txt,ratings[i]])\n",
        "\n",
        "    def vectorise(self,txt):\n",
        "        #Final tensor\n",
        "        X_tensor = torch.zeros(300)\n",
        "        l=0\n",
        "        for i in txt:\n",
        "          #Check if the word is in the vocabulary of word2vec\n",
        "          if i in w2v:\n",
        "            l = l+1\n",
        "            #If so add it to the X_tensor\n",
        "            X_tensor += torch.tensor(w2v[i])\n",
        "        #Divide X_tensor by number of vectors that were added. This is called mean pooling\n",
        "        if l > 0:\n",
        "            X_tensor = X_tensor / l\n",
        "        return X_tensor\n",
        "\n",
        "    def __getitem__(self,index):\n",
        "        sent_tensor = self.vectorise(self.data[index][0])\n",
        "        return [sent_tensor,(self.data[index][1]-1)]\n",
        "    def __len__(self):\n",
        "        return len(self.data)"
      ]
    },
    {
      "cell_type": "code",
      "execution_count": 33,
      "metadata": {
        "id": "klu4SIf10sLw"
      },
      "outputs": [],
      "source": [
        "import torch\n",
        "\n",
        "target_classes = [\"1\", \"2\", \"3\", \"4\", \"5\"]\n",
        "\n",
        "train_dataset = reviews(\"train\")\n",
        "val_dataset = reviews(\"val\")\n",
        "test_dataset = reviews(\"test\")\n",
        "\n",
        "train_loader = DataLoader(train_dataset, batch_size=128)\n",
        "val_loader = DataLoader(val_dataset, batch_size=128)\n",
        "test_loader  = DataLoader(test_dataset, batch_size=128)"
      ]
    },
    {
      "cell_type": "code",
      "execution_count": 34,
      "metadata": {
        "id": "zES2i4031CKb"
      },
      "outputs": [
        {
          "name": "stdout",
          "output_type": "stream",
          "text": [
            "torch.Size([128, 300]) torch.Size([128])\n"
          ]
        }
      ],
      "source": [
        "for X, Y in train_loader:\n",
        "    print(X.shape, Y.shape)\n",
        "    break"
      ]
    },
    {
      "cell_type": "markdown",
      "metadata": {
        "id": "xiWHJZDkVHS8"
      },
      "source": [
        "# Model Training"
      ]
    },
    {
      "cell_type": "code",
      "execution_count": 35,
      "metadata": {
        "id": "u9dsc1gO1LrM"
      },
      "outputs": [],
      "source": [
        "from torch import nn\n",
        "from torch.nn import functional as F\n",
        "\n",
        "#Embedding dimension of Word2vec\n",
        "embed_len = 300\n",
        "\n",
        "#Create a Neural Network for mapping the reviews to probabilities of different ratings\n",
        "class EmbeddingClassifier(nn.Module):\n",
        "    def __init__(self):\n",
        "        super(EmbeddingClassifier, self).__init__()\n",
        "        #Create a Neural Network with input dimension embed_len, hidden dimensions 256,128,64 and output dimension the length of target class.\n",
        "        #Use Relu as the activation function between each layer.\n",
        "        self.seq = nn.Sequential(\n",
        "            nn.Linear(embed_len, 256),\n",
        "            nn.ReLU(),\n",
        "            nn.Linear(256, 128),\n",
        "            nn.ReLU(),\n",
        "            nn.Linear(128, 64),\n",
        "            nn.ReLU(),\n",
        "            nn.Linear(64, len(target_classes))\n",
        "        )\n",
        "\n",
        "    def forward(self, X_batch):\n",
        "        return self.seq(X_batch)"
      ]
    },
    {
      "cell_type": "code",
      "execution_count": 36,
      "metadata": {
        "id": "PIrB0oXf1Oo2"
      },
      "outputs": [],
      "source": [
        "from tqdm import tqdm\n",
        "from sklearn.metrics import accuracy_score\n",
        "import gc\n",
        "\n",
        "def CalcValLossAndAccuracy(model, loss_fn, val_loader):\n",
        "    with torch.no_grad():\n",
        "        Y_shuffled, Y_preds, losses = [],[],[]\n",
        "        for X, Y in val_loader:\n",
        "            #Predict output probabilities for all target classes for input X\n",
        "            preds = model(X)\n",
        "            loss = loss_fn(preds, Y.long())\n",
        "            losses.append(loss.item())\n",
        "\n",
        "            Y_shuffled.append(Y)\n",
        "            #Get the predicted class from the output probabilities: The class with the highest probability. Append to Y_preds list(use argmax)\n",
        "            Y_preds.append(torch.argmax(preds, dim=1))\n",
        "\n",
        "        Y_shuffled = torch.cat(Y_shuffled)\n",
        "        Y_preds = torch.cat(Y_preds)\n",
        "\n",
        "        print(\"Valid Loss : {:.3f}\".format(torch.tensor(losses).mean()))\n",
        "        print(\"Valid Acc  : {:.3f}\".format(accuracy_score(Y_shuffled.detach().numpy(), Y_preds.detach().numpy())))\n",
        "\n",
        "def TrainModel(model, loss_fn, optimizer, train_loader, val_loader, epochs=10):\n",
        "    for i in range(1, epochs+1):\n",
        "        losses = []\n",
        "        for X, Y in tqdm(train_loader):\n",
        "            #Predict output probabilities for all target classes for input X″\n",
        "            Y_preds = model(X)\n",
        "            loss = loss_fn(Y_preds, Y.long())\n",
        "            losses.append(loss.item())\n",
        "\n",
        "            optimizer.zero_grad()\n",
        "            loss.backward()\n",
        "            optimizer.step()\n",
        "\n",
        "        if i%5==0:\n",
        "            print(\"Train Loss : {:.3f}\".format(torch.tensor(losses).mean()))\n",
        "            CalcValLossAndAccuracy(model, loss_fn, val_loader)"
      ]
    },
    {
      "cell_type": "code",
      "execution_count": 37,
      "metadata": {
        "id": "7NH3fPjU1SP6"
      },
      "outputs": [],
      "source": [
        "from torch.optim import Adam\n",
        "\n",
        "epochs = 25\n",
        "learning_rate = 1e-3\n",
        "\n",
        "loss_fn = nn.CrossEntropyLoss()\n",
        "embed_classifier = EmbeddingClassifier()\n",
        "optimizer = Adam(embed_classifier.parameters(), lr=learning_rate)"
      ]
    },
    {
      "cell_type": "code",
      "execution_count": 38,
      "metadata": {},
      "outputs": [
        {
          "name": "stderr",
          "output_type": "stream",
          "text": [
            "100%|██████████| 38/38 [00:01<00:00, 32.55it/s]\n",
            "100%|██████████| 38/38 [00:01<00:00, 34.07it/s]\n",
            "100%|██████████| 38/38 [00:01<00:00, 33.36it/s]\n",
            "100%|██████████| 38/38 [00:01<00:00, 33.43it/s]\n",
            "100%|██████████| 38/38 [00:01<00:00, 32.18it/s]\n"
          ]
        },
        {
          "name": "stdout",
          "output_type": "stream",
          "text": [
            "Train Loss : 0.668\n",
            "Valid Loss : 0.238\n",
            "Valid Acc  : 0.928\n"
          ]
        },
        {
          "name": "stderr",
          "output_type": "stream",
          "text": [
            "100%|██████████| 38/38 [00:01<00:00, 34.05it/s]\n",
            "100%|██████████| 38/38 [00:01<00:00, 32.90it/s]\n",
            "100%|██████████| 38/38 [00:01<00:00, 32.74it/s]\n",
            "100%|██████████| 38/38 [00:01<00:00, 33.79it/s]\n",
            "100%|██████████| 38/38 [00:01<00:00, 33.85it/s]\n"
          ]
        },
        {
          "name": "stdout",
          "output_type": "stream",
          "text": [
            "Train Loss : 0.623\n",
            "Valid Loss : 0.226\n",
            "Valid Acc  : 0.928\n"
          ]
        },
        {
          "name": "stderr",
          "output_type": "stream",
          "text": [
            "100%|██████████| 38/38 [00:01<00:00, 34.12it/s]\n",
            "100%|██████████| 38/38 [00:01<00:00, 34.11it/s]\n",
            "100%|██████████| 38/38 [00:01<00:00, 33.63it/s]\n",
            "100%|██████████| 38/38 [00:01<00:00, 33.62it/s]\n",
            "100%|██████████| 38/38 [00:01<00:00, 33.77it/s]\n"
          ]
        },
        {
          "name": "stdout",
          "output_type": "stream",
          "text": [
            "Train Loss : 0.588\n",
            "Valid Loss : 0.218\n",
            "Valid Acc  : 0.928\n"
          ]
        },
        {
          "name": "stderr",
          "output_type": "stream",
          "text": [
            "100%|██████████| 38/38 [00:01<00:00, 33.33it/s]\n",
            "100%|██████████| 38/38 [00:01<00:00, 33.82it/s]\n",
            "100%|██████████| 38/38 [00:01<00:00, 33.63it/s]\n",
            "100%|██████████| 38/38 [00:01<00:00, 32.31it/s]\n",
            "100%|██████████| 38/38 [00:01<00:00, 32.91it/s]\n"
          ]
        },
        {
          "name": "stdout",
          "output_type": "stream",
          "text": [
            "Train Loss : 0.557\n",
            "Valid Loss : 0.205\n",
            "Valid Acc  : 0.928\n"
          ]
        },
        {
          "name": "stderr",
          "output_type": "stream",
          "text": [
            "100%|██████████| 38/38 [00:01<00:00, 32.42it/s]\n",
            "100%|██████████| 38/38 [00:01<00:00, 32.59it/s]\n",
            "100%|██████████| 38/38 [00:01<00:00, 32.99it/s]\n",
            "100%|██████████| 38/38 [00:01<00:00, 33.35it/s]\n",
            "100%|██████████| 38/38 [00:01<00:00, 33.00it/s]"
          ]
        },
        {
          "name": "stdout",
          "output_type": "stream",
          "text": [
            "Train Loss : 0.515\n",
            "Valid Loss : 0.191\n",
            "Valid Acc  : 0.928\n"
          ]
        },
        {
          "name": "stderr",
          "output_type": "stream",
          "text": [
            "\n"
          ]
        }
      ],
      "source": [
        "TrainModel(embed_classifier, loss_fn, optimizer, train_loader, test_loader, epochs)"
      ]
    },
    {
      "cell_type": "markdown",
      "metadata": {
        "id": "BhsN_oQBVLu4"
      },
      "source": [
        "# Evaluation"
      ]
    },
    {
      "cell_type": "code",
      "execution_count": 39,
      "metadata": {
        "id": "b_0D0Y9ghXcn"
      },
      "outputs": [],
      "source": [
        "def MakePredictions(model, loader):\n",
        "    Y_shuffled, Y_preds = [], []\n",
        "    for X, Y in loader:\n",
        "        preds = model(X)\n",
        "        Y_preds.append(preds)\n",
        "        Y_shuffled.append(Y)\n",
        "    gc.collect()\n",
        "    Y_preds, Y_shuffled = torch.cat(Y_preds), torch.cat(Y_shuffled)\n",
        "\n",
        "    return Y_shuffled.detach().numpy(), F.softmax(Y_preds, dim=-1).argmax(dim=-1).detach().numpy()\n",
        "\n",
        "Y_actual_val, Y_preds_val = MakePredictions(embed_classifier, val_loader)"
      ]
    },
    {
      "cell_type": "code",
      "execution_count": null,
      "metadata": {
        "id": "4akk395rhYEi"
      },
      "outputs": [],
      "source": [
        "from sklearn.metrics import accuracy_score, classification_report, confusion_matrix\n",
        "\n",
        "#Write code to get full classification report and print a confusion matrix for validation set"
      ]
    },
    {
      "cell_type": "code",
      "execution_count": null,
      "metadata": {
        "id": "HqefIiwNhaCW"
      },
      "outputs": [],
      "source": [
        "from sklearn.metrics import confusion_matrix\n",
        "import scikitplot as skplt\n",
        "import matplotlib.pyplot as plt\n",
        "import numpy as np\n",
        "\n",
        "#Plot a confusion matrix for the validation set"
      ]
    },
    {
      "cell_type": "code",
      "execution_count": null,
      "metadata": {
        "id": "OCTP91W21Upe"
      },
      "outputs": [],
      "source": [
        "Y_actual_test, Y_preds_test = MakePredictions(embed_classifier, test_loader)"
      ]
    },
    {
      "cell_type": "code",
      "execution_count": null,
      "metadata": {
        "id": "R2Lbn3HL1XkG"
      },
      "outputs": [],
      "source": [
        "#Write code to get full classification report and print a confusion matrix for test set"
      ]
    },
    {
      "cell_type": "code",
      "execution_count": null,
      "metadata": {
        "id": "mcp0ocC91Z_J"
      },
      "outputs": [],
      "source": [
        "#Plot a confusion matrix for the test set"
      ]
    }
  ],
  "metadata": {
    "colab": {
      "provenance": []
    },
    "kernelspec": {
      "display_name": "Python 3",
      "name": "python3"
    },
    "language_info": {
      "codemirror_mode": {
        "name": "ipython",
        "version": 3
      },
      "file_extension": ".py",
      "mimetype": "text/x-python",
      "name": "python",
      "nbconvert_exporter": "python",
      "pygments_lexer": "ipython3",
      "version": "3.10.14"
    }
  },
  "nbformat": 4,
  "nbformat_minor": 0
}
